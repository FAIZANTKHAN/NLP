{
  "nbformat": 4,
  "nbformat_minor": 0,
  "metadata": {
    "colab": {
      "provenance": []
    },
    "kernelspec": {
      "name": "python3",
      "display_name": "Python 3"
    },
    "language_info": {
      "name": "python"
    }
  },
  "cells": [
    {
      "cell_type": "markdown",
      "source": [
        "**In this Exercise, you are going to classify whether a given movie review is positive or negative.\n",
        "you are going to use Bag of words for pre-processing the text and apply different classification algorithms.\n",
        "Sklearn CountVectorizer has the inbuilt implementations for Bag of Words.**"
      ],
      "metadata": {
        "id": "SeonMdHqLoml"
      }
    },
    {
      "cell_type": "code",
      "execution_count": 1,
      "metadata": {
        "id": "gaQfOaXLJE4m"
      },
      "outputs": [],
      "source": [
        "import pandas as pd\n",
        "import numpy as np\n",
        "from sklearn.model_selection import train_test_split\n",
        "from sklearn.feature_extraction.text import CountVectorizer\n",
        "from sklearn.ensemble import RandomForestClassifier\n",
        "from  sklearn.neighbors import KNeighborsClassifier\n",
        "from sklearn.naive_bayes import MultinomialNB\n",
        "from sklearn.pipeline import Pipeline\n",
        "from sklearn.metrics import classification_report"
      ]
    },
    {
      "cell_type": "code",
      "source": [
        "#1. read the data provided in the same directory with name 'movies_sentiment_data.csv' and store it in df variable\n",
        "df = pd.read_csv(\"movies_sentiment_data.csv\")\n",
        "\n",
        "\n",
        "#2. print the shape of the data\n",
        "print(df.shape)\n",
        "\n",
        "#3. print top 5 datapoints\n",
        "df.head()"
      ],
      "metadata": {
        "colab": {
          "base_uri": "https://localhost:8080/",
          "height": 223
        },
        "id": "9I5t-tbjL4Dp",
        "outputId": "482b82ee-851b-4012-cece-fa10cdf889d6"
      },
      "execution_count": 2,
      "outputs": [
        {
          "output_type": "stream",
          "name": "stdout",
          "text": [
            "(19000, 2)\n"
          ]
        },
        {
          "output_type": "execute_result",
          "data": {
            "text/plain": [
              "                                              review sentiment\n",
              "0  I first saw Jake Gyllenhaal in Jarhead (2005) ...  positive\n",
              "1  I enjoyed the movie and the story immensely! I...  positive\n",
              "2  I had a hard time sitting through this. Every ...  negative\n",
              "3  It's hard to imagine that anyone could find th...  negative\n",
              "4  This is one military drama I like a lot! Tom B...  positive"
            ],
            "text/html": [
              "\n",
              "  <div id=\"df-57067d5b-4b65-4fac-8eb9-4e4479680c1a\" class=\"colab-df-container\">\n",
              "    <div>\n",
              "<style scoped>\n",
              "    .dataframe tbody tr th:only-of-type {\n",
              "        vertical-align: middle;\n",
              "    }\n",
              "\n",
              "    .dataframe tbody tr th {\n",
              "        vertical-align: top;\n",
              "    }\n",
              "\n",
              "    .dataframe thead th {\n",
              "        text-align: right;\n",
              "    }\n",
              "</style>\n",
              "<table border=\"1\" class=\"dataframe\">\n",
              "  <thead>\n",
              "    <tr style=\"text-align: right;\">\n",
              "      <th></th>\n",
              "      <th>review</th>\n",
              "      <th>sentiment</th>\n",
              "    </tr>\n",
              "  </thead>\n",
              "  <tbody>\n",
              "    <tr>\n",
              "      <th>0</th>\n",
              "      <td>I first saw Jake Gyllenhaal in Jarhead (2005) ...</td>\n",
              "      <td>positive</td>\n",
              "    </tr>\n",
              "    <tr>\n",
              "      <th>1</th>\n",
              "      <td>I enjoyed the movie and the story immensely! I...</td>\n",
              "      <td>positive</td>\n",
              "    </tr>\n",
              "    <tr>\n",
              "      <th>2</th>\n",
              "      <td>I had a hard time sitting through this. Every ...</td>\n",
              "      <td>negative</td>\n",
              "    </tr>\n",
              "    <tr>\n",
              "      <th>3</th>\n",
              "      <td>It's hard to imagine that anyone could find th...</td>\n",
              "      <td>negative</td>\n",
              "    </tr>\n",
              "    <tr>\n",
              "      <th>4</th>\n",
              "      <td>This is one military drama I like a lot! Tom B...</td>\n",
              "      <td>positive</td>\n",
              "    </tr>\n",
              "  </tbody>\n",
              "</table>\n",
              "</div>\n",
              "    <div class=\"colab-df-buttons\">\n",
              "\n",
              "  <div class=\"colab-df-container\">\n",
              "    <button class=\"colab-df-convert\" onclick=\"convertToInteractive('df-57067d5b-4b65-4fac-8eb9-4e4479680c1a')\"\n",
              "            title=\"Convert this dataframe to an interactive table.\"\n",
              "            style=\"display:none;\">\n",
              "\n",
              "  <svg xmlns=\"http://www.w3.org/2000/svg\" height=\"24px\" viewBox=\"0 -960 960 960\">\n",
              "    <path d=\"M120-120v-720h720v720H120Zm60-500h600v-160H180v160Zm220 220h160v-160H400v160Zm0 220h160v-160H400v160ZM180-400h160v-160H180v160Zm440 0h160v-160H620v160ZM180-180h160v-160H180v160Zm440 0h160v-160H620v160Z\"/>\n",
              "  </svg>\n",
              "    </button>\n",
              "\n",
              "  <style>\n",
              "    .colab-df-container {\n",
              "      display:flex;\n",
              "      gap: 12px;\n",
              "    }\n",
              "\n",
              "    .colab-df-convert {\n",
              "      background-color: #E8F0FE;\n",
              "      border: none;\n",
              "      border-radius: 50%;\n",
              "      cursor: pointer;\n",
              "      display: none;\n",
              "      fill: #1967D2;\n",
              "      height: 32px;\n",
              "      padding: 0 0 0 0;\n",
              "      width: 32px;\n",
              "    }\n",
              "\n",
              "    .colab-df-convert:hover {\n",
              "      background-color: #E2EBFA;\n",
              "      box-shadow: 0px 1px 2px rgba(60, 64, 67, 0.3), 0px 1px 3px 1px rgba(60, 64, 67, 0.15);\n",
              "      fill: #174EA6;\n",
              "    }\n",
              "\n",
              "    .colab-df-buttons div {\n",
              "      margin-bottom: 4px;\n",
              "    }\n",
              "\n",
              "    [theme=dark] .colab-df-convert {\n",
              "      background-color: #3B4455;\n",
              "      fill: #D2E3FC;\n",
              "    }\n",
              "\n",
              "    [theme=dark] .colab-df-convert:hover {\n",
              "      background-color: #434B5C;\n",
              "      box-shadow: 0px 1px 3px 1px rgba(0, 0, 0, 0.15);\n",
              "      filter: drop-shadow(0px 1px 2px rgba(0, 0, 0, 0.3));\n",
              "      fill: #FFFFFF;\n",
              "    }\n",
              "  </style>\n",
              "\n",
              "    <script>\n",
              "      const buttonEl =\n",
              "        document.querySelector('#df-57067d5b-4b65-4fac-8eb9-4e4479680c1a button.colab-df-convert');\n",
              "      buttonEl.style.display =\n",
              "        google.colab.kernel.accessAllowed ? 'block' : 'none';\n",
              "\n",
              "      async function convertToInteractive(key) {\n",
              "        const element = document.querySelector('#df-57067d5b-4b65-4fac-8eb9-4e4479680c1a');\n",
              "        const dataTable =\n",
              "          await google.colab.kernel.invokeFunction('convertToInteractive',\n",
              "                                                    [key], {});\n",
              "        if (!dataTable) return;\n",
              "\n",
              "        const docLinkHtml = 'Like what you see? Visit the ' +\n",
              "          '<a target=\"_blank\" href=https://colab.research.google.com/notebooks/data_table.ipynb>data table notebook</a>'\n",
              "          + ' to learn more about interactive tables.';\n",
              "        element.innerHTML = '';\n",
              "        dataTable['output_type'] = 'display_data';\n",
              "        await google.colab.output.renderOutput(dataTable, element);\n",
              "        const docLink = document.createElement('div');\n",
              "        docLink.innerHTML = docLinkHtml;\n",
              "        element.appendChild(docLink);\n",
              "      }\n",
              "    </script>\n",
              "  </div>\n",
              "\n",
              "\n",
              "<div id=\"df-dad8de9f-da69-491e-815a-505395534a77\">\n",
              "  <button class=\"colab-df-quickchart\" onclick=\"quickchart('df-dad8de9f-da69-491e-815a-505395534a77')\"\n",
              "            title=\"Suggest charts\"\n",
              "            style=\"display:none;\">\n",
              "\n",
              "<svg xmlns=\"http://www.w3.org/2000/svg\" height=\"24px\"viewBox=\"0 0 24 24\"\n",
              "     width=\"24px\">\n",
              "    <g>\n",
              "        <path d=\"M19 3H5c-1.1 0-2 .9-2 2v14c0 1.1.9 2 2 2h14c1.1 0 2-.9 2-2V5c0-1.1-.9-2-2-2zM9 17H7v-7h2v7zm4 0h-2V7h2v10zm4 0h-2v-4h2v4z\"/>\n",
              "    </g>\n",
              "</svg>\n",
              "  </button>\n",
              "\n",
              "<style>\n",
              "  .colab-df-quickchart {\n",
              "      --bg-color: #E8F0FE;\n",
              "      --fill-color: #1967D2;\n",
              "      --hover-bg-color: #E2EBFA;\n",
              "      --hover-fill-color: #174EA6;\n",
              "      --disabled-fill-color: #AAA;\n",
              "      --disabled-bg-color: #DDD;\n",
              "  }\n",
              "\n",
              "  [theme=dark] .colab-df-quickchart {\n",
              "      --bg-color: #3B4455;\n",
              "      --fill-color: #D2E3FC;\n",
              "      --hover-bg-color: #434B5C;\n",
              "      --hover-fill-color: #FFFFFF;\n",
              "      --disabled-bg-color: #3B4455;\n",
              "      --disabled-fill-color: #666;\n",
              "  }\n",
              "\n",
              "  .colab-df-quickchart {\n",
              "    background-color: var(--bg-color);\n",
              "    border: none;\n",
              "    border-radius: 50%;\n",
              "    cursor: pointer;\n",
              "    display: none;\n",
              "    fill: var(--fill-color);\n",
              "    height: 32px;\n",
              "    padding: 0;\n",
              "    width: 32px;\n",
              "  }\n",
              "\n",
              "  .colab-df-quickchart:hover {\n",
              "    background-color: var(--hover-bg-color);\n",
              "    box-shadow: 0 1px 2px rgba(60, 64, 67, 0.3), 0 1px 3px 1px rgba(60, 64, 67, 0.15);\n",
              "    fill: var(--button-hover-fill-color);\n",
              "  }\n",
              "\n",
              "  .colab-df-quickchart-complete:disabled,\n",
              "  .colab-df-quickchart-complete:disabled:hover {\n",
              "    background-color: var(--disabled-bg-color);\n",
              "    fill: var(--disabled-fill-color);\n",
              "    box-shadow: none;\n",
              "  }\n",
              "\n",
              "  .colab-df-spinner {\n",
              "    border: 2px solid var(--fill-color);\n",
              "    border-color: transparent;\n",
              "    border-bottom-color: var(--fill-color);\n",
              "    animation:\n",
              "      spin 1s steps(1) infinite;\n",
              "  }\n",
              "\n",
              "  @keyframes spin {\n",
              "    0% {\n",
              "      border-color: transparent;\n",
              "      border-bottom-color: var(--fill-color);\n",
              "      border-left-color: var(--fill-color);\n",
              "    }\n",
              "    20% {\n",
              "      border-color: transparent;\n",
              "      border-left-color: var(--fill-color);\n",
              "      border-top-color: var(--fill-color);\n",
              "    }\n",
              "    30% {\n",
              "      border-color: transparent;\n",
              "      border-left-color: var(--fill-color);\n",
              "      border-top-color: var(--fill-color);\n",
              "      border-right-color: var(--fill-color);\n",
              "    }\n",
              "    40% {\n",
              "      border-color: transparent;\n",
              "      border-right-color: var(--fill-color);\n",
              "      border-top-color: var(--fill-color);\n",
              "    }\n",
              "    60% {\n",
              "      border-color: transparent;\n",
              "      border-right-color: var(--fill-color);\n",
              "    }\n",
              "    80% {\n",
              "      border-color: transparent;\n",
              "      border-right-color: var(--fill-color);\n",
              "      border-bottom-color: var(--fill-color);\n",
              "    }\n",
              "    90% {\n",
              "      border-color: transparent;\n",
              "      border-bottom-color: var(--fill-color);\n",
              "    }\n",
              "  }\n",
              "</style>\n",
              "\n",
              "  <script>\n",
              "    async function quickchart(key) {\n",
              "      const quickchartButtonEl =\n",
              "        document.querySelector('#' + key + ' button');\n",
              "      quickchartButtonEl.disabled = true;  // To prevent multiple clicks.\n",
              "      quickchartButtonEl.classList.add('colab-df-spinner');\n",
              "      try {\n",
              "        const charts = await google.colab.kernel.invokeFunction(\n",
              "            'suggestCharts', [key], {});\n",
              "      } catch (error) {\n",
              "        console.error('Error during call to suggestCharts:', error);\n",
              "      }\n",
              "      quickchartButtonEl.classList.remove('colab-df-spinner');\n",
              "      quickchartButtonEl.classList.add('colab-df-quickchart-complete');\n",
              "    }\n",
              "    (() => {\n",
              "      let quickchartButtonEl =\n",
              "        document.querySelector('#df-dad8de9f-da69-491e-815a-505395534a77 button');\n",
              "      quickchartButtonEl.style.display =\n",
              "        google.colab.kernel.accessAllowed ? 'block' : 'none';\n",
              "    })();\n",
              "  </script>\n",
              "</div>\n",
              "\n",
              "    </div>\n",
              "  </div>\n"
            ],
            "application/vnd.google.colaboratory.intrinsic+json": {
              "type": "dataframe",
              "variable_name": "df",
              "summary": "{\n  \"name\": \"df\",\n  \"rows\": 19000,\n  \"fields\": [\n    {\n      \"column\": \"review\",\n      \"properties\": {\n        \"dtype\": \"string\",\n        \"num_unique_values\": 18939,\n        \"samples\": [\n          \"I could never remember the name of this show. I use to watch it when I was 8. I remember staying up late when I wasn't suppose to just so I could watch this show. It was the best show to me. From what I remember of it, it is still great. This showed starred Lucas Black making him the first boy I ever had a crush on. I am from the country, therefore boys with an accent have no appeal to me, but for him I would definitely make an exception. Which after seeing Crazy in Alabama, Friday Night Lights, and Tokyo Drift you should see why. He is a great actor and has been since he was a kid. I miss this show and wish it would come back out. If anyone ever sees where they are selling the season please email me. kywildflower16@hotmail.com\",\n          \"Wasn't sure what to expect from this film. I love watching Brosnan in any movie, he's always good, but this was totally different. He's a mess, and plays being a mess very well. In fact he reminded me of myself a few times back in uni :) So yes, there's not a lot of violence, there's not a lot of action, but the dialogue is cracking, the acting is superb and very refreshing, and it's pretty funny too :) I don't think you'll come out of the cinema going \\\"Wow! I was blown away\\\", but you'll come out smiling having enjoyed a good film. Can't ask for more than that.<br /><br />Oh, and if you're lucky, some moron will put the adverts reel in wrong and you'll get inverted, upside down, reversed (with reversed audio) adverts!! Brilliant. Nothing like watching a Jack Daniels ad where the drink goes back into the bottle from the glass with a gruff American \\\"Twin Peaks\\\" commentary :)\",\n          \"DON'T BELIEVE THE HYPE!<br /><br />I had to see why all the critics fawn over this movie. I have seen it and still don't get it. The Plot is thin, very thin. After the movie was over, I still did not know the female lead characters name and one of the two male characters did not even have a name in the credits, he is credited as \\\"the farmer\\\". I did not care about the characters, so I did not care about the movie.<br /><br />The scenery and cinematography were brilliant, but so is the stuff on National Geographic or The Discovery Channel.<br /><br />I can not recommend this movie to anyone.\"\n        ],\n        \"semantic_type\": \"\",\n        \"description\": \"\"\n      }\n    },\n    {\n      \"column\": \"sentiment\",\n      \"properties\": {\n        \"dtype\": \"category\",\n        \"num_unique_values\": 2,\n        \"samples\": [\n          \"negative\",\n          \"positive\"\n        ],\n        \"semantic_type\": \"\",\n        \"description\": \"\"\n      }\n    }\n  ]\n}"
            }
          },
          "metadata": {},
          "execution_count": 2
        }
      ]
    },
    {
      "cell_type": "code",
      "source": [
        "#creating a new column \"Category\" which represent 1 if the sentiment is positive or 0 if it is negative\n",
        "df['Category'] = df['sentiment'].apply(lambda x: 1 if x =='positive' else 0)"
      ],
      "metadata": {
        "id": "71boFSexRj6Q"
      },
      "execution_count": 3,
      "outputs": []
    },
    {
      "cell_type": "code",
      "source": [
        "#check the distribution of 'Category' and see whether the Target labels are balanced or not.\n",
        "\n",
        "df['Category'].value_counts()"
      ],
      "metadata": {
        "colab": {
          "base_uri": "https://localhost:8080/",
          "height": 178
        },
        "id": "g03uSJrNSJtJ",
        "outputId": "e8a2b3a0-8651-4f43-989c-e54af3d6d347"
      },
      "execution_count": 5,
      "outputs": [
        {
          "output_type": "execute_result",
          "data": {
            "text/plain": [
              "Category\n",
              "1    9500\n",
              "0    9500\n",
              "Name: count, dtype: int64"
            ],
            "text/html": [
              "<div>\n",
              "<style scoped>\n",
              "    .dataframe tbody tr th:only-of-type {\n",
              "        vertical-align: middle;\n",
              "    }\n",
              "\n",
              "    .dataframe tbody tr th {\n",
              "        vertical-align: top;\n",
              "    }\n",
              "\n",
              "    .dataframe thead th {\n",
              "        text-align: right;\n",
              "    }\n",
              "</style>\n",
              "<table border=\"1\" class=\"dataframe\">\n",
              "  <thead>\n",
              "    <tr style=\"text-align: right;\">\n",
              "      <th></th>\n",
              "      <th>count</th>\n",
              "    </tr>\n",
              "    <tr>\n",
              "      <th>Category</th>\n",
              "      <th></th>\n",
              "    </tr>\n",
              "  </thead>\n",
              "  <tbody>\n",
              "    <tr>\n",
              "      <th>1</th>\n",
              "      <td>9500</td>\n",
              "    </tr>\n",
              "    <tr>\n",
              "      <th>0</th>\n",
              "      <td>9500</td>\n",
              "    </tr>\n",
              "  </tbody>\n",
              "</table>\n",
              "</div><br><label><b>dtype:</b> int64</label>"
            ]
          },
          "metadata": {},
          "execution_count": 5
        }
      ]
    },
    {
      "cell_type": "code",
      "source": [
        "#Do the 'train-test' splitting with test size of 20%\n",
        "\n",
        "from sklearn.model_selection import train_test_split\n",
        "\n",
        "X_train, X_test, y_train, y_test = train_test_split(df.review, df.Category, test_size=0.2)"
      ],
      "metadata": {
        "id": "FYpKn3fcTUEZ"
      },
      "execution_count": 6,
      "outputs": []
    },
    {
      "cell_type": "markdown",
      "source": [
        "Exercise-1\n",
        "\n",
        "using sklearn pipeline module create a classification pipeline to classify the movie review's positive or negative.\n",
        "\n"
      ],
      "metadata": {
        "id": "qsqZiWqdTdEt"
      }
    },
    {
      "cell_type": "code",
      "source": [
        "#use CountVectorizer for pre-processing the text.\n",
        "#use Random Forest as the classifier with estimators as 50 and criterion as entropy.\n",
        "#print the classification report.\n",
        "\n",
        "#1. create a pipeline object\n",
        "clf = Pipeline([\n",
        "    ('vectorizer', CountVectorizer()),                                                    #initializing the vectorizer\n",
        "    ('random_forest', (RandomForestClassifier(n_estimators=50, criterion='entropy')))      #using the RandomForest classifier\n",
        "])\n",
        "\n",
        "\n",
        "\n",
        "#2. fit with X_train and y_train\n",
        "clf.fit(X_train, y_train)\n",
        "\n",
        "\n",
        "#3. get the predictions for X_test and store it in y_pred\n",
        "y_pred = clf.predict(X_test)\n",
        "\n",
        "\n",
        "#4. print the classfication report\n",
        "print(classification_report(y_test, y_pred))"
      ],
      "metadata": {
        "colab": {
          "base_uri": "https://localhost:8080/"
        },
        "id": "q4C35NG9TcG5",
        "outputId": "74907186-0587-452d-ff9a-8948d5e3634a"
      },
      "execution_count": 7,
      "outputs": [
        {
          "output_type": "stream",
          "name": "stdout",
          "text": [
            "              precision    recall  f1-score   support\n",
            "\n",
            "           0       0.83      0.85      0.84      1875\n",
            "           1       0.85      0.82      0.84      1925\n",
            "\n",
            "    accuracy                           0.84      3800\n",
            "   macro avg       0.84      0.84      0.84      3800\n",
            "weighted avg       0.84      0.84      0.84      3800\n",
            "\n"
          ]
        }
      ]
    },
    {
      "cell_type": "markdown",
      "source": [
        "Exercise-2\n",
        "\n",
        "using sklearn pipeline module create a classification pipeline to classify the movie review's positive or negative."
      ],
      "metadata": {
        "id": "r0oqE_SCV_73"
      }
    },
    {
      "cell_type": "code",
      "source": [
        "#use CountVectorizer for pre-processing the text.\n",
        "#use KNN as the classifier with n_neighbors of 10 and metric as 'euclidean'.\n",
        "#print the classification report.\n",
        "\n",
        "#1. create a pipeline object\n",
        "clf = Pipeline([\n",
        "\n",
        "     ('vectorizer', CountVectorizer()),\n",
        "      ('KNN', (KNeighborsClassifier(n_neighbors=10, metric = 'euclidean')))   #using the KNN classifier with 10 neighbors\n",
        "])\n",
        "\n",
        "\n",
        "#2. fit with X_train and y_train\n",
        "clf.fit(X_train, y_train)\n",
        "\n",
        "\n",
        "#3. get the predictions for X_test and store it in y_pred\n",
        "y_pred = clf.predict(X_test)\n",
        "\n",
        "\n",
        "#4. print the classfication report\n",
        "print(classification_report(y_test, y_pred))"
      ],
      "metadata": {
        "colab": {
          "base_uri": "https://localhost:8080/"
        },
        "id": "JbDpEh8LVuVF",
        "outputId": "a0f151c1-aa2d-409d-bc82-07dc194fd3ce"
      },
      "execution_count": 8,
      "outputs": [
        {
          "output_type": "stream",
          "name": "stdout",
          "text": [
            "              precision    recall  f1-score   support\n",
            "\n",
            "           0       0.63      0.62      0.63      1875\n",
            "           1       0.64      0.65      0.64      1925\n",
            "\n",
            "    accuracy                           0.64      3800\n",
            "   macro avg       0.64      0.64      0.64      3800\n",
            "weighted avg       0.64      0.64      0.64      3800\n",
            "\n"
          ]
        }
      ]
    },
    {
      "cell_type": "markdown",
      "source": [
        "Exercise-3\n",
        "\n",
        "using sklearn pipeline module create a classification pipeline to classify the movie review's positive or negative."
      ],
      "metadata": {
        "id": "DwqZ1_9DWSbl"
      }
    },
    {
      "cell_type": "code",
      "source": [
        "#use CountVectorizer for pre-processing the text.\n",
        "#use Multinomial Naive Bayes as the classifier.\n",
        "#print the classification report.\n",
        "\n",
        "#1. create a pipeline object\n",
        "clf = Pipeline([\n",
        "\n",
        "     ('vectorizer', CountVectorizer()),\n",
        "      ('Multi NB', MultinomialNB())   #using the Multinomial Naive Bayes classifier\n",
        "])\n",
        "\n",
        "\n",
        "#2. fit with X_train and y_train\n",
        "clf.fit(X_train, y_train)\n",
        "\n",
        "\n",
        "#3. get the predictions for X_test and store it in y_pred\n",
        "y_pred = clf.predict(X_test)\n",
        "\n",
        "\n",
        "#4. print the classfication report\n",
        "print(classification_report(y_test, y_pred))"
      ],
      "metadata": {
        "colab": {
          "base_uri": "https://localhost:8080/"
        },
        "id": "k476Fb5QWOKd",
        "outputId": "8e81ebc9-ad1e-4d40-9607-a7034d2c9fa1"
      },
      "execution_count": 9,
      "outputs": [
        {
          "output_type": "stream",
          "name": "stdout",
          "text": [
            "              precision    recall  f1-score   support\n",
            "\n",
            "           0       0.82      0.88      0.85      1875\n",
            "           1       0.87      0.81      0.84      1925\n",
            "\n",
            "    accuracy                           0.84      3800\n",
            "   macro avg       0.85      0.84      0.84      3800\n",
            "weighted avg       0.85      0.84      0.84      3800\n",
            "\n"
          ]
        }
      ]
    }
  ]
}