{
  "nbformat": 4,
  "nbformat_minor": 0,
  "metadata": {
    "colab": {
      "provenance": []
    },
    "kernelspec": {
      "name": "python3",
      "display_name": "Python 3"
    },
    "language_info": {
      "name": "python"
    }
  },
  "cells": [
    {
      "cell_type": "code",
      "execution_count": 2,
      "metadata": {
        "id": "zmpc_3vx2q0A"
      },
      "outputs": [],
      "source": [
        "#Sentence & Word Tokenization In Spacy\n",
        "import spacy"
      ]
    },
    {
      "cell_type": "code",
      "source": [
        "nlp=spacy.load('en_core_web_sm')\n",
        "doc=nlp(\"Hey there! Would you mind if I asked you for a favor?\")"
      ],
      "metadata": {
        "id": "1rkVXQSX6Wl8"
      },
      "execution_count": 3,
      "outputs": []
    },
    {
      "cell_type": "code",
      "source": [
        "for sentence in doc.sents:\n",
        "    print(sentence)"
      ],
      "metadata": {
        "colab": {
          "base_uri": "https://localhost:8080/"
        },
        "id": "oaKgphP88zoQ",
        "outputId": "a967edd1-88ef-4afb-a399-eb2fbcc6917f"
      },
      "execution_count": 4,
      "outputs": [
        {
          "output_type": "stream",
          "name": "stdout",
          "text": [
            "Hey there!\n",
            "Would you mind if I asked you for a favor?\n"
          ]
        }
      ]
    },
    {
      "cell_type": "code",
      "source": [
        "for sentence in doc.sents:\n",
        "    for word in sentence:\n",
        "        print(word)"
      ],
      "metadata": {
        "colab": {
          "base_uri": "https://localhost:8080/"
        },
        "id": "IpwxuRMz9Cyq",
        "outputId": "b158370b-fc00-4334-ed9e-1ba7dc97c67b"
      },
      "execution_count": 5,
      "outputs": [
        {
          "output_type": "stream",
          "name": "stdout",
          "text": [
            "Hey\n",
            "there\n",
            "!\n",
            "Would\n",
            "you\n",
            "mind\n",
            "if\n",
            "I\n",
            "asked\n",
            "you\n",
            "for\n",
            "a\n",
            "favor\n",
            "?\n"
          ]
        }
      ]
    },
    {
      "cell_type": "code",
      "source": [
        "#Sentence & Word Tokenization In NLTK\n",
        "from nltk.tokenize import sent_tokenize\n",
        "import nltk\n",
        "nltk.download('punkt')"
      ],
      "metadata": {
        "colab": {
          "base_uri": "https://localhost:8080/"
        },
        "id": "IG-nzFjP9TGA",
        "outputId": "a63dca9e-e29f-4b1e-fad0-a36089bbcc73"
      },
      "execution_count": 7,
      "outputs": [
        {
          "output_type": "stream",
          "name": "stderr",
          "text": [
            "[nltk_data] Downloading package punkt to /root/nltk_data...\n",
            "[nltk_data]   Unzipping tokenizers/punkt.zip.\n"
          ]
        },
        {
          "output_type": "execute_result",
          "data": {
            "text/plain": [
              "True"
            ]
          },
          "metadata": {},
          "execution_count": 7
        }
      ]
    },
    {
      "cell_type": "code",
      "source": [
        "sent_tokenize(\"Hey there! Would you mind if I asked you for a favor?\")"
      ],
      "metadata": {
        "colab": {
          "base_uri": "https://localhost:8080/"
        },
        "id": "4ML9yuCa9nBq",
        "outputId": "3f6605d1-038c-4102-b218-39cd69940a66"
      },
      "execution_count": 8,
      "outputs": [
        {
          "output_type": "execute_result",
          "data": {
            "text/plain": [
              "['Hey there!', 'Would you mind if I asked you for a favor?']"
            ]
          },
          "metadata": {},
          "execution_count": 8
        }
      ]
    },
    {
      "cell_type": "code",
      "source": [
        "from nltk.tokenize import word_tokenize\n",
        "word_tokenize(\"Hey there! Would you mind if I asked you for a favor?\")"
      ],
      "metadata": {
        "colab": {
          "base_uri": "https://localhost:8080/"
        },
        "id": "lzbMQi8Z-4kD",
        "outputId": "edbb0287-6c12-4980-efbc-ac9025a01a94"
      },
      "execution_count": 9,
      "outputs": [
        {
          "output_type": "execute_result",
          "data": {
            "text/plain": [
              "['Hey',\n",
              " 'there',\n",
              " '!',\n",
              " 'Would',\n",
              " 'you',\n",
              " 'mind',\n",
              " 'if',\n",
              " 'I',\n",
              " 'asked',\n",
              " 'you',\n",
              " 'for',\n",
              " 'a',\n",
              " 'favor',\n",
              " '?']"
            ]
          },
          "metadata": {},
          "execution_count": 9
        }
      ]
    },
    {
      "cell_type": "markdown",
      "source": [
        "**So we can conclude that Spacy in Object Oriented(mostly used by developers )whereas NLTK is string processing library(mostly used in the field of research)**"
      ],
      "metadata": {
        "id": "UKMdFVSg_IO3"
      }
    }
  ]
}