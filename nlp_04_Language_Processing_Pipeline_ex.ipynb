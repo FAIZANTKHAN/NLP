{
  "nbformat": 4,
  "nbformat_minor": 0,
  "metadata": {
    "colab": {
      "provenance": []
    },
    "kernelspec": {
      "name": "python3",
      "display_name": "Python 3"
    },
    "language_info": {
      "name": "python"
    }
  },
  "cells": [
    {
      "cell_type": "code",
      "execution_count": 1,
      "metadata": {
        "id": "1i-zdG4oJsLI"
      },
      "outputs": [],
      "source": [
        "import spacy\n",
        "nlp=spacy.load(\"en_core_web_sm\")"
      ]
    },
    {
      "cell_type": "markdown",
      "source": [
        "Excersie: 1\n",
        "Get all the proper nouns from a given text in a list and also count how many of them.\n",
        "Proper Noun means a noun that names a particular person, place, or thing."
      ],
      "metadata": {
        "id": "MDfQkvneP0hl"
      }
    },
    {
      "cell_type": "code",
      "source": [
        "text = '''Ravi and Raju are the best friends from school days.They wanted to go for a world tour and\n",
        "visit famous cities like Paris, London, Dubai, Rome etc and also they called their another friend Mohan to take part of this world tour.\n",
        "They started their journey from Hyderabad and spent next 3 months travelling all the wonderful cities in the world and cherish a happy moments!\n",
        "'''\n",
        "\n",
        "doc=nlp(text)\n",
        "\n",
        "all_proper_nouns=[]\n",
        "for token in doc:\n",
        "  if token.pos_=='PROPN':\n",
        "    all_proper_nouns.append(token)\n",
        "\n",
        "\n",
        "print(\"Proper Nouns:\",all_proper_nouns)\n",
        "print(\"Count:\",len(all_proper_nouns))"
      ],
      "metadata": {
        "colab": {
          "base_uri": "https://localhost:8080/"
        },
        "id": "SEO1XXxsPtnV",
        "outputId": "4212e96b-7ebc-421f-feb4-dee99949cefa"
      },
      "execution_count": 4,
      "outputs": [
        {
          "output_type": "stream",
          "name": "stdout",
          "text": [
            "Proper Nouns: [Raju, Paris, London, Dubai, Rome, Mohan, Hyderabad]\n",
            "Count: 7\n"
          ]
        }
      ]
    },
    {
      "cell_type": "markdown",
      "source": [
        "\n",
        "Excersie: 2\n",
        "Get all companies names from a given text and also the count of them.\n",
        "Hint: Use the spacy ner functionality"
      ],
      "metadata": {
        "id": "iwTpeyVjQcgZ"
      }
    },
    {
      "cell_type": "code",
      "source": [
        "text = '''The Top 5 companies in USA are Tesla, Walmart, Amazon, Microsoft, Google and the top 5 companies in\n",
        "India are Infosys, Reliance, HDFC Bank, Hindustan Unilever and Bharti Airtel'''\n",
        "\n",
        "doc=nlp(text)\n",
        "\n",
        "all_companies_names=[]\n",
        "\n",
        "for ent in doc.ents:\n",
        "  if ent.label_=='ORG':\n",
        "    all_companies_names.append(ent)\n",
        "\n",
        "print(\"Company Names\",all_companies_names)\n",
        "print(\"Count\",len(all_companies_names))\n"
      ],
      "metadata": {
        "colab": {
          "base_uri": "https://localhost:8080/"
        },
        "id": "WOz3qnQ6P4cb",
        "outputId": "d14f6686-9549-47b4-c101-3f2507bc6a2d"
      },
      "execution_count": 5,
      "outputs": [
        {
          "output_type": "stream",
          "name": "stdout",
          "text": [
            "Company Names [Tesla, Walmart, Amazon, Microsoft, Google, Infosys, Reliance, HDFC Bank, Hindustan Unilever, Bharti]\n",
            "Count 10\n"
          ]
        }
      ]
    }
  ]
}