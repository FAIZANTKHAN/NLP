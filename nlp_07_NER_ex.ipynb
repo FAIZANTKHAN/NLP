{
  "nbformat": 4,
  "nbformat_minor": 0,
  "metadata": {
    "colab": {
      "provenance": []
    },
    "kernelspec": {
      "name": "python3",
      "display_name": "Python 3"
    },
    "language_info": {
      "name": "python"
    }
  },
  "cells": [
    {
      "cell_type": "markdown",
      "source": [
        "**Named Entity Recognition(NER)**"
      ],
      "metadata": {
        "id": "Lmjm9OnwQmMS"
      }
    },
    {
      "cell_type": "code",
      "execution_count": 1,
      "metadata": {
        "id": "6_-M4YxBICkq"
      },
      "outputs": [],
      "source": [
        "import spacy\n",
        "\n",
        "nlp=spacy.load(\"en_core_web_sm\")"
      ]
    },
    {
      "cell_type": "markdown",
      "source": [
        "**Exercise:1**"
      ],
      "metadata": {
        "id": "u8vAUpj6RGEb"
      }
    },
    {
      "cell_type": "code",
      "source": [
        "#Extract all the Geographical (cities, Countries, states) names from a given text\n",
        "\n",
        "text=\"\"\"Kiran want to know the famous foods in each state of India. So, he opened Google and search for this question. Google showed that\n",
        "in Delhi it is Chaat, in Gujarat it is Dal Dhokli, in Tamilnadu it is Pongal, in Andhrapradesh it is Biryani, in Assam it is Papaya Khar,\n",
        "in Bihar it is Litti Chowkha and so on for all other states\"\"\"\n",
        "\n",
        "doc=nlp(text)\n",
        "\n",
        "all_gpe_names=[]\n",
        "for ent in doc.ents:\n",
        "  if ent.label_==\"GPE\":\n",
        "    all_gpe_names.append(ent)\n",
        "\n",
        "\n",
        "print(\"Geographical location names:\",all_gpe_names)\n",
        "print(\"Count:\",len(all_gpe_names))"
      ],
      "metadata": {
        "colab": {
          "base_uri": "https://localhost:8080/"
        },
        "id": "I0yNjB1mRFd6",
        "outputId": "6bf98438-72f5-484a-e2f2-99e21e1c6f02"
      },
      "execution_count": 2,
      "outputs": [
        {
          "output_type": "stream",
          "name": "stdout",
          "text": [
            "Geographical location names: [India, Delhi, Gujarat, Tamilnadu, Pongal, Andhrapradesh, Assam, Bihar]\n",
            "Count: 8\n"
          ]
        }
      ]
    },
    {
      "cell_type": "markdown",
      "source": [
        "**Excersie: 2**"
      ],
      "metadata": {
        "id": "FVth46n8SAsT"
      }
    },
    {
      "cell_type": "code",
      "source": [
        "#Extract all the birth dates of cricketers in the given Text\n",
        "text = \"\"\"Sachin Tendulkar was born on 24 April 1973, Virat Kholi was born on 5 November 1988, Dhoni was born on 7 July 1981\n",
        "and finally Ricky ponting was born on 19 December 1974.\"\"\"\n",
        "\n",
        "doc=nlp(text)\n",
        "\n",
        "all_birth_dates=[]\n",
        "\n",
        "for ent in doc.ents:\n",
        "  if ent.label_=='DATE':\n",
        "    all_birth_dates.append(ent)\n",
        "\n",
        "print(\"All Birth Dates:\", all_birth_dates)\n",
        "print(\"Count\",len(all_birth_dates))"
      ],
      "metadata": {
        "colab": {
          "base_uri": "https://localhost:8080/"
        },
        "id": "mQNr6PTsQ-Nm",
        "outputId": "e5840529-af06-43fc-d81f-296387714a1f"
      },
      "execution_count": 3,
      "outputs": [
        {
          "output_type": "stream",
          "name": "stdout",
          "text": [
            "All Birth Dates: [24 April 1973, 5 November 1988, 7 July 1981, 19 December 1974]\n",
            "Count 4\n"
          ]
        }
      ]
    }
  ]
}