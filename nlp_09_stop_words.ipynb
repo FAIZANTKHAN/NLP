{
  "nbformat": 4,
  "nbformat_minor": 0,
  "metadata": {
    "colab": {
      "provenance": []
    },
    "kernelspec": {
      "name": "python3",
      "display_name": "Python 3"
    },
    "language_info": {
      "name": "python"
    }
  },
  "cells": [
    {
      "cell_type": "markdown",
      "source": [
        "**Stop Words**"
      ],
      "metadata": {
        "id": "6jHZCg4dX0TP"
      }
    },
    {
      "cell_type": "code",
      "execution_count": 1,
      "metadata": {
        "colab": {
          "base_uri": "https://localhost:8080/"
        },
        "id": "1Tl1zdWhViLh",
        "outputId": "a089921b-3b85-45e1-9f57-7a69c8f87c14"
      },
      "outputs": [
        {
          "output_type": "execute_result",
          "data": {
            "text/plain": [
              "326"
            ]
          },
          "metadata": {},
          "execution_count": 1
        }
      ],
      "source": [
        "import spacy\n",
        "\n",
        "from spacy.lang.en.stop_words import STOP_WORDS\n",
        "\n",
        "len(STOP_WORDS)"
      ]
    },
    {
      "cell_type": "code",
      "source": [
        "nlp = spacy.load(\"en_core_web_sm\")\n",
        "\n",
        "doc = nlp(\"We just opened our wings, the flying part is coming soon\")\n",
        "\n",
        "for token in doc:\n",
        "    if token.is_stop:\n",
        "        print(token)"
      ],
      "metadata": {
        "colab": {
          "base_uri": "https://localhost:8080/"
        },
        "id": "CtdGjvEhX5aQ",
        "outputId": "e271c32c-16b4-4887-8426-44a24470ef6f"
      },
      "execution_count": 2,
      "outputs": [
        {
          "output_type": "stream",
          "name": "stdout",
          "text": [
            "We\n",
            "just\n",
            "our\n",
            "the\n",
            "part\n",
            "is\n"
          ]
        }
      ]
    },
    {
      "cell_type": "code",
      "source": [
        "\n",
        "def preprocess(text):\n",
        "    doc = nlp(text)\n",
        "\n",
        "    no_stop_words = [token.text for token in doc if not token.is_stop]\n",
        "    return \" \".join(no_stop_words)"
      ],
      "metadata": {
        "id": "2KXeFCkweIzL"
      },
      "execution_count": 3,
      "outputs": []
    },
    {
      "cell_type": "code",
      "source": [
        "preprocess(\"Musk wants time to prepare for a trial over his\")"
      ],
      "metadata": {
        "colab": {
          "base_uri": "https://localhost:8080/",
          "height": 36
        },
        "id": "vQXFnPrre9fT",
        "outputId": "7bde683d-0709-4ca5-b364-b8310933ba8e"
      },
      "execution_count": 4,
      "outputs": [
        {
          "output_type": "execute_result",
          "data": {
            "text/plain": [
              "'Musk wants time prepare trial'"
            ],
            "application/vnd.google.colaboratory.intrinsic+json": {
              "type": "string"
            }
          },
          "metadata": {},
          "execution_count": 4
        }
      ]
    },
    {
      "cell_type": "code",
      "source": [
        "preprocess(\"The other is not other but your divine brother\")"
      ],
      "metadata": {
        "colab": {
          "base_uri": "https://localhost:8080/",
          "height": 36
        },
        "id": "MTUHajgyfcy-",
        "outputId": "7099b779-11c5-4b16-db7b-83755fe43054"
      },
      "execution_count": 5,
      "outputs": [
        {
          "output_type": "execute_result",
          "data": {
            "text/plain": [
              "'divine brother'"
            ],
            "application/vnd.google.colaboratory.intrinsic+json": {
              "type": "string"
            }
          },
          "metadata": {},
          "execution_count": 5
        }
      ]
    },
    {
      "cell_type": "markdown",
      "source": [
        "Remove stop words from pandas dataframe text column\n",
        "Dataset is downloaded from: https://www.kaggle.com/datasets/jbencina/department-of-justice-20092018-press-releases It contains press releases of different court cases from depart of justice (DOJ). The releases contain information such as outcomes of criminal cases, notable actions taken against felons, or other updates about the current administration."
      ],
      "metadata": {
        "id": "241NT3cYgEYy"
      }
    },
    {
      "cell_type": "code",
      "source": [
        "import pandas as pd\n",
        "\n",
        "df = pd.read_json(\"doj_press.json\",lines=True)\n",
        "\n",
        "df.shape"
      ],
      "metadata": {
        "colab": {
          "base_uri": "https://localhost:8080/"
        },
        "id": "W_6Hr9dofyvK",
        "outputId": "a84e684f-0c3f-493b-f04d-e5395384e41a"
      },
      "execution_count": 8,
      "outputs": [
        {
          "output_type": "execute_result",
          "data": {
            "text/plain": [
              "(13087, 6)"
            ]
          },
          "metadata": {},
          "execution_count": 8
        }
      ]
    },
    {
      "cell_type": "code",
      "source": [
        "\n",
        "df.head(5)"
      ],
      "metadata": {
        "colab": {
          "base_uri": "https://localhost:8080/",
          "height": 293
        },
        "id": "jcV6UoxLgb6L",
        "outputId": "2c1733af-c88f-410a-d1b2-4d9697af0829"
      },
      "execution_count": 9,
      "outputs": [
        {
          "output_type": "execute_result",
          "data": {
            "text/plain": [
              "        id                                              title  \\\n",
              "0     None       Convicted Bomb Plotter Sentenced to 30 Years   \n",
              "1  12-919   $1 Million in Restitution Payments Announced t...   \n",
              "2  11-1002  $1 Million Settlement Reached for Natural Reso...   \n",
              "3   10-015  10 Las Vegas Men Indicted \\r\\nfor Falsifying V...   \n",
              "4   18-898  $100 Million Settlement Will Speed Cleanup Wor...   \n",
              "\n",
              "                                            contents  \\\n",
              "0  PORTLAND, Oregon. – Mohamed Osman Mohamud, 23,...   \n",
              "1    WASHINGTON – North Carolina’s Waccamaw River...   \n",
              "2        BOSTON– A $1-million settlement has been...   \n",
              "3    WASHINGTON—A federal grand jury in Las Vegas...   \n",
              "4  The U.S. Department of Justice, the U.S. Envir...   \n",
              "\n",
              "                        date         topics  \\\n",
              "0  2014-10-01T00:00:00-04:00             []   \n",
              "1  2012-07-25T00:00:00-04:00             []   \n",
              "2  2011-08-03T00:00:00-04:00             []   \n",
              "3  2010-01-08T00:00:00-05:00             []   \n",
              "4  2018-07-09T00:00:00-04:00  [Environment]   \n",
              "\n",
              "                                     components  \n",
              "0            [National Security Division (NSD)]  \n",
              "1  [Environment and Natural Resources Division]  \n",
              "2  [Environment and Natural Resources Division]  \n",
              "3  [Environment and Natural Resources Division]  \n",
              "4  [Environment and Natural Resources Division]  "
            ],
            "text/html": [
              "\n",
              "  <div id=\"df-77870a65-201d-470b-b768-afe6567224d0\" class=\"colab-df-container\">\n",
              "    <div>\n",
              "<style scoped>\n",
              "    .dataframe tbody tr th:only-of-type {\n",
              "        vertical-align: middle;\n",
              "    }\n",
              "\n",
              "    .dataframe tbody tr th {\n",
              "        vertical-align: top;\n",
              "    }\n",
              "\n",
              "    .dataframe thead th {\n",
              "        text-align: right;\n",
              "    }\n",
              "</style>\n",
              "<table border=\"1\" class=\"dataframe\">\n",
              "  <thead>\n",
              "    <tr style=\"text-align: right;\">\n",
              "      <th></th>\n",
              "      <th>id</th>\n",
              "      <th>title</th>\n",
              "      <th>contents</th>\n",
              "      <th>date</th>\n",
              "      <th>topics</th>\n",
              "      <th>components</th>\n",
              "    </tr>\n",
              "  </thead>\n",
              "  <tbody>\n",
              "    <tr>\n",
              "      <th>0</th>\n",
              "      <td>None</td>\n",
              "      <td>Convicted Bomb Plotter Sentenced to 30 Years</td>\n",
              "      <td>PORTLAND, Oregon. – Mohamed Osman Mohamud, 23,...</td>\n",
              "      <td>2014-10-01T00:00:00-04:00</td>\n",
              "      <td>[]</td>\n",
              "      <td>[National Security Division (NSD)]</td>\n",
              "    </tr>\n",
              "    <tr>\n",
              "      <th>1</th>\n",
              "      <td>12-919</td>\n",
              "      <td>$1 Million in Restitution Payments Announced t...</td>\n",
              "      <td>WASHINGTON – North Carolina’s Waccamaw River...</td>\n",
              "      <td>2012-07-25T00:00:00-04:00</td>\n",
              "      <td>[]</td>\n",
              "      <td>[Environment and Natural Resources Division]</td>\n",
              "    </tr>\n",
              "    <tr>\n",
              "      <th>2</th>\n",
              "      <td>11-1002</td>\n",
              "      <td>$1 Million Settlement Reached for Natural Reso...</td>\n",
              "      <td>BOSTON– A $1-million settlement has been...</td>\n",
              "      <td>2011-08-03T00:00:00-04:00</td>\n",
              "      <td>[]</td>\n",
              "      <td>[Environment and Natural Resources Division]</td>\n",
              "    </tr>\n",
              "    <tr>\n",
              "      <th>3</th>\n",
              "      <td>10-015</td>\n",
              "      <td>10 Las Vegas Men Indicted \\r\\nfor Falsifying V...</td>\n",
              "      <td>WASHINGTON—A federal grand jury in Las Vegas...</td>\n",
              "      <td>2010-01-08T00:00:00-05:00</td>\n",
              "      <td>[]</td>\n",
              "      <td>[Environment and Natural Resources Division]</td>\n",
              "    </tr>\n",
              "    <tr>\n",
              "      <th>4</th>\n",
              "      <td>18-898</td>\n",
              "      <td>$100 Million Settlement Will Speed Cleanup Wor...</td>\n",
              "      <td>The U.S. Department of Justice, the U.S. Envir...</td>\n",
              "      <td>2018-07-09T00:00:00-04:00</td>\n",
              "      <td>[Environment]</td>\n",
              "      <td>[Environment and Natural Resources Division]</td>\n",
              "    </tr>\n",
              "  </tbody>\n",
              "</table>\n",
              "</div>\n",
              "    <div class=\"colab-df-buttons\">\n",
              "\n",
              "  <div class=\"colab-df-container\">\n",
              "    <button class=\"colab-df-convert\" onclick=\"convertToInteractive('df-77870a65-201d-470b-b768-afe6567224d0')\"\n",
              "            title=\"Convert this dataframe to an interactive table.\"\n",
              "            style=\"display:none;\">\n",
              "\n",
              "  <svg xmlns=\"http://www.w3.org/2000/svg\" height=\"24px\" viewBox=\"0 -960 960 960\">\n",
              "    <path d=\"M120-120v-720h720v720H120Zm60-500h600v-160H180v160Zm220 220h160v-160H400v160Zm0 220h160v-160H400v160ZM180-400h160v-160H180v160Zm440 0h160v-160H620v160ZM180-180h160v-160H180v160Zm440 0h160v-160H620v160Z\"/>\n",
              "  </svg>\n",
              "    </button>\n",
              "\n",
              "  <style>\n",
              "    .colab-df-container {\n",
              "      display:flex;\n",
              "      gap: 12px;\n",
              "    }\n",
              "\n",
              "    .colab-df-convert {\n",
              "      background-color: #E8F0FE;\n",
              "      border: none;\n",
              "      border-radius: 50%;\n",
              "      cursor: pointer;\n",
              "      display: none;\n",
              "      fill: #1967D2;\n",
              "      height: 32px;\n",
              "      padding: 0 0 0 0;\n",
              "      width: 32px;\n",
              "    }\n",
              "\n",
              "    .colab-df-convert:hover {\n",
              "      background-color: #E2EBFA;\n",
              "      box-shadow: 0px 1px 2px rgba(60, 64, 67, 0.3), 0px 1px 3px 1px rgba(60, 64, 67, 0.15);\n",
              "      fill: #174EA6;\n",
              "    }\n",
              "\n",
              "    .colab-df-buttons div {\n",
              "      margin-bottom: 4px;\n",
              "    }\n",
              "\n",
              "    [theme=dark] .colab-df-convert {\n",
              "      background-color: #3B4455;\n",
              "      fill: #D2E3FC;\n",
              "    }\n",
              "\n",
              "    [theme=dark] .colab-df-convert:hover {\n",
              "      background-color: #434B5C;\n",
              "      box-shadow: 0px 1px 3px 1px rgba(0, 0, 0, 0.15);\n",
              "      filter: drop-shadow(0px 1px 2px rgba(0, 0, 0, 0.3));\n",
              "      fill: #FFFFFF;\n",
              "    }\n",
              "  </style>\n",
              "\n",
              "    <script>\n",
              "      const buttonEl =\n",
              "        document.querySelector('#df-77870a65-201d-470b-b768-afe6567224d0 button.colab-df-convert');\n",
              "      buttonEl.style.display =\n",
              "        google.colab.kernel.accessAllowed ? 'block' : 'none';\n",
              "\n",
              "      async function convertToInteractive(key) {\n",
              "        const element = document.querySelector('#df-77870a65-201d-470b-b768-afe6567224d0');\n",
              "        const dataTable =\n",
              "          await google.colab.kernel.invokeFunction('convertToInteractive',\n",
              "                                                    [key], {});\n",
              "        if (!dataTable) return;\n",
              "\n",
              "        const docLinkHtml = 'Like what you see? Visit the ' +\n",
              "          '<a target=\"_blank\" href=https://colab.research.google.com/notebooks/data_table.ipynb>data table notebook</a>'\n",
              "          + ' to learn more about interactive tables.';\n",
              "        element.innerHTML = '';\n",
              "        dataTable['output_type'] = 'display_data';\n",
              "        await google.colab.output.renderOutput(dataTable, element);\n",
              "        const docLink = document.createElement('div');\n",
              "        docLink.innerHTML = docLinkHtml;\n",
              "        element.appendChild(docLink);\n",
              "      }\n",
              "    </script>\n",
              "  </div>\n",
              "\n",
              "\n",
              "<div id=\"df-fc70a0dc-6d43-466e-83aa-9803ebd5fc98\">\n",
              "  <button class=\"colab-df-quickchart\" onclick=\"quickchart('df-fc70a0dc-6d43-466e-83aa-9803ebd5fc98')\"\n",
              "            title=\"Suggest charts\"\n",
              "            style=\"display:none;\">\n",
              "\n",
              "<svg xmlns=\"http://www.w3.org/2000/svg\" height=\"24px\"viewBox=\"0 0 24 24\"\n",
              "     width=\"24px\">\n",
              "    <g>\n",
              "        <path d=\"M19 3H5c-1.1 0-2 .9-2 2v14c0 1.1.9 2 2 2h14c1.1 0 2-.9 2-2V5c0-1.1-.9-2-2-2zM9 17H7v-7h2v7zm4 0h-2V7h2v10zm4 0h-2v-4h2v4z\"/>\n",
              "    </g>\n",
              "</svg>\n",
              "  </button>\n",
              "\n",
              "<style>\n",
              "  .colab-df-quickchart {\n",
              "      --bg-color: #E8F0FE;\n",
              "      --fill-color: #1967D2;\n",
              "      --hover-bg-color: #E2EBFA;\n",
              "      --hover-fill-color: #174EA6;\n",
              "      --disabled-fill-color: #AAA;\n",
              "      --disabled-bg-color: #DDD;\n",
              "  }\n",
              "\n",
              "  [theme=dark] .colab-df-quickchart {\n",
              "      --bg-color: #3B4455;\n",
              "      --fill-color: #D2E3FC;\n",
              "      --hover-bg-color: #434B5C;\n",
              "      --hover-fill-color: #FFFFFF;\n",
              "      --disabled-bg-color: #3B4455;\n",
              "      --disabled-fill-color: #666;\n",
              "  }\n",
              "\n",
              "  .colab-df-quickchart {\n",
              "    background-color: var(--bg-color);\n",
              "    border: none;\n",
              "    border-radius: 50%;\n",
              "    cursor: pointer;\n",
              "    display: none;\n",
              "    fill: var(--fill-color);\n",
              "    height: 32px;\n",
              "    padding: 0;\n",
              "    width: 32px;\n",
              "  }\n",
              "\n",
              "  .colab-df-quickchart:hover {\n",
              "    background-color: var(--hover-bg-color);\n",
              "    box-shadow: 0 1px 2px rgba(60, 64, 67, 0.3), 0 1px 3px 1px rgba(60, 64, 67, 0.15);\n",
              "    fill: var(--button-hover-fill-color);\n",
              "  }\n",
              "\n",
              "  .colab-df-quickchart-complete:disabled,\n",
              "  .colab-df-quickchart-complete:disabled:hover {\n",
              "    background-color: var(--disabled-bg-color);\n",
              "    fill: var(--disabled-fill-color);\n",
              "    box-shadow: none;\n",
              "  }\n",
              "\n",
              "  .colab-df-spinner {\n",
              "    border: 2px solid var(--fill-color);\n",
              "    border-color: transparent;\n",
              "    border-bottom-color: var(--fill-color);\n",
              "    animation:\n",
              "      spin 1s steps(1) infinite;\n",
              "  }\n",
              "\n",
              "  @keyframes spin {\n",
              "    0% {\n",
              "      border-color: transparent;\n",
              "      border-bottom-color: var(--fill-color);\n",
              "      border-left-color: var(--fill-color);\n",
              "    }\n",
              "    20% {\n",
              "      border-color: transparent;\n",
              "      border-left-color: var(--fill-color);\n",
              "      border-top-color: var(--fill-color);\n",
              "    }\n",
              "    30% {\n",
              "      border-color: transparent;\n",
              "      border-left-color: var(--fill-color);\n",
              "      border-top-color: var(--fill-color);\n",
              "      border-right-color: var(--fill-color);\n",
              "    }\n",
              "    40% {\n",
              "      border-color: transparent;\n",
              "      border-right-color: var(--fill-color);\n",
              "      border-top-color: var(--fill-color);\n",
              "    }\n",
              "    60% {\n",
              "      border-color: transparent;\n",
              "      border-right-color: var(--fill-color);\n",
              "    }\n",
              "    80% {\n",
              "      border-color: transparent;\n",
              "      border-right-color: var(--fill-color);\n",
              "      border-bottom-color: var(--fill-color);\n",
              "    }\n",
              "    90% {\n",
              "      border-color: transparent;\n",
              "      border-bottom-color: var(--fill-color);\n",
              "    }\n",
              "  }\n",
              "</style>\n",
              "\n",
              "  <script>\n",
              "    async function quickchart(key) {\n",
              "      const quickchartButtonEl =\n",
              "        document.querySelector('#' + key + ' button');\n",
              "      quickchartButtonEl.disabled = true;  // To prevent multiple clicks.\n",
              "      quickchartButtonEl.classList.add('colab-df-spinner');\n",
              "      try {\n",
              "        const charts = await google.colab.kernel.invokeFunction(\n",
              "            'suggestCharts', [key], {});\n",
              "      } catch (error) {\n",
              "        console.error('Error during call to suggestCharts:', error);\n",
              "      }\n",
              "      quickchartButtonEl.classList.remove('colab-df-spinner');\n",
              "      quickchartButtonEl.classList.add('colab-df-quickchart-complete');\n",
              "    }\n",
              "    (() => {\n",
              "      let quickchartButtonEl =\n",
              "        document.querySelector('#df-fc70a0dc-6d43-466e-83aa-9803ebd5fc98 button');\n",
              "      quickchartButtonEl.style.display =\n",
              "        google.colab.kernel.accessAllowed ? 'block' : 'none';\n",
              "    })();\n",
              "  </script>\n",
              "</div>\n",
              "\n",
              "    </div>\n",
              "  </div>\n"
            ],
            "application/vnd.google.colaboratory.intrinsic+json": {
              "type": "dataframe",
              "variable_name": "df",
              "summary": "{\n  \"name\": \"df\",\n  \"rows\": 13087,\n  \"fields\": [\n    {\n      \"column\": \"id\",\n      \"properties\": {\n        \"dtype\": \"string\",\n        \"num_unique_values\": 12672,\n        \"samples\": [\n          \"18 - 320\",\n          \"16-769\",\n          \"17-401\"\n        ],\n        \"semantic_type\": \"\",\n        \"description\": \"\"\n      }\n    },\n    {\n      \"column\": \"title\",\n      \"properties\": {\n        \"dtype\": \"string\",\n        \"num_unique_values\": 12887,\n        \"samples\": [\n          \"14 Individuals Charged with Trafficking Identities of Puerto Rican U.S. Citizens\",\n          \"Former Puerto Rico Senator and Businessman Found Guilty of Bribery\",\n          \"Honduran Man Pleads Guilty to Conspiring to Launder Over $1 Million in Bribes and Funds Misappropriated From the Honduran Social Security Agency \"\n        ],\n        \"semantic_type\": \"\",\n        \"description\": \"\"\n      }\n    },\n    {\n      \"column\": \"contents\",\n      \"properties\": {\n        \"dtype\": \"string\",\n        \"num_unique_values\": 13080,\n        \"samples\": [\n          \" Habtom Merhay, a national of Eritrea and a citizen of the United Kingdom, made his initial appearance today in Washington, D.C., federal court to face human smuggling charges for his role in smuggling primarily Eritrean and Ethiopian undocumented migrants from Dubai, United Arab Emirates, through South and Central America and Mexico into the United States.Acting Assistant Attorney General David A. O\\u2019Neil of the Justice Department\\u2019s Criminal Division, U.S. Attorney Ronald C. Machen Jr.\\u00a0of the District of Columbia and Acting Special Agent in Charge Katrina W. Berger of U.S. Immigration and Customs Enforcement\\u2019s (ICE) Homeland Security Investigations (HSI) made the announcement.Merhay, 47, arrived in the United States on April 25, 2014, and made his initial appearance today before U.S. Magistrate Judge Deborah A. Robinson in the District of Columbia.   He was indicted under seal in the District of Columbia in 2012, and the charges were unsealed today.   Merhay has been in the custody of Moroccan authorities pending extradition since his arrest in Marrakech, Morocco, in August 2013.The indictment charges Merhay with one count of conspiracy to bring undocumented migrants to the United States for profit and 15 counts of unlawfully bringing an undocumented migrant to the United States for profit.   Court documents allege that Merhay operated with a network of smugglers in Africa, the United Arab Emirates, South and Central America, Mexico and elsewhere to coordinate and implement arrangements, including providing fraudulent identity and travel documents, for undocumented migrants to travel through Latin America and ultimately into the United States without authorization.   For up to $15,000, Merhay arranged for individual undocumented migrants to travel from points in Africa to a house or apartment in Dubai, where he provided travel documents, tickets and instructions for meeting other smugglers while on the way to the United States.   Merhay coordinated the migrants\\u2019 air travel to South America, where they would meet with Merhay\\u2019s associates, who would direct or guide them across the various country borders.   The undocumented migrants then met with other smugglers associated with Merhay and were further guided north to Mexico and then into the United States, sometimes by crossing the Rio Grande River by raft.The investigation was conducted under the Extraterritorial Criminal Travel Strike Force (ECT) program, a joint partnership between the Justice Department\\u2019s Criminal Division and ICE-HSI.   The ECT program focuses on human smuggling networks that may present particular national security or public safety risks or present grave humanitarian concerns.   ECT has dedicated investigative, intelligence and prosecutorial resources.   ECT coordinates and receives assistance from other U.S. government agencies and foreign law enforcement authorities.The investigation was conducted by HSI Washington.\\u00a0 This case is being prosecuted by Trial Attorney Jay Bauer of the Criminal Division\\u2019s Human Rights and Special Prosecutions Section and Assistant U.S. Attorney Frederick Yette of the District of Columbia.\\u00a0 The extradition was handled by Dan E. Stigall of the Criminal Division\\u2019s Office of International Affairs.The Department of Justice and HSI expressed their appreciation for the significant assistance provided by the Moroccan Ministry of Justice.The charges contained in the indictment are merely accusations, and the defendant is presumed innocent unless and until proven guilty.      \\u00a0\",\n          \"  Metropolitan Ambulance & First Aid Corp. (now known as SEZ Metro Corp.), Metro North Ambulance Corp. (now known as SEZ North Corp.) and Big Apple Ambulance Service Inc. (formerly known as United Ambulance) have paid the United States $2.85 million to resolve false claims made to Medicare, the Justice Department announced today. The United States stipulated to the dismissal of the False Claims Act qui tam suit against the companies, including their president, Steve Zakheim.   The United States alleged that the companies and Zakheim used, or caused the use of, falsified records to appeal a Medicare program refund demand. Medicare had demanded the companies return millions of dollars they had been paid for medically unnecessary ambulance trips. Under Medicare rules, the companies could bill for these expensive non-emergency transports only if the patient could not be transported by any other means, such as by car or by wheelchair van. Medicare audited the companies\\u2019 past billings and concluded that the companies had charged Medicare tens of millions of dollars for ambulance trips that did not meet this standard. Medicare demanded a refund and afforded the companies an extensive informal and formal appeals process to prove that their billings were proper.   The government contended that, rather than contesting the refund demand fairly, the companies resorted to fraud when they could not otherwise prove an ambulance was medically needed. According to the suit, in their ensuing appeals, the companies used, and Zakheim caused the use of, hundreds of letters attesting to the need for an ambulance that were forged or otherwise purported to come from some neutral, disinterested health care provider when they in fact did not.   \\\"Those who benefit from Medicare must play by the rules,\\\" said Tony West, Assistant Attorney General for the Civil Division of the Department of Justice. \\\"We will diligently protect taxpayer dollars from those who use fraud and deceit to take advantage of federal health care programs.\\\"   \\\"Healthcare providers who seek to defraud the Medicare program by submitting false documents will be vigorously pursued and held accountable for their fraud,\\\" said U.S. Attorney Loretta E. Lynch.   This action was originally filed by Larry Kaplan, a former Chief Financial Officer for one of the companies, under the False Claims Act. The qui tam, or whistleblower, provisions of the Act permit private citizens to file suit on behalf of the United States and share in any recovery. Mr. Kaplan\\u2019s share of the settlement announced today will be $618,450.   The investigation, litigation, and resolution of these allegations resulted from a coordinated effort by the Justice Department\\u2019s Civil Division, the U.S. Attorney\\u2019s Office for the Eastern District of New York, the Department of Health and Human Services\\u2019 Office of Inspector General, and the Federal Bureau of Investigation.   The suit is United States ex rel. Kaplan v. Metropolitan Ambulance & First-Aid Corp. et al., Civil Action No. 00-3010 (E.D.N.Y.).   This settlement is part of the government\\u2019s emphasis on combating health care fraud. One of the most powerful tools in that effort is the False Claims Act, which the Justice Department has used to recover approximately $3 billion since January 2009 in cases involving fraud against federal health care programs.\",\n          \"  WASHINGTON \\u2014 The United States has filed a complaint against Louisiana Generating alleging that the company violated the Clean Air Act by operating the Big Cajun 2 Power Plant, a coal-fired power plant in New Roads, La., without also installing and operating modern pollution control equipment after the generating units had undergone major modifications, the Justice Department and U.S. Environmental Protection Agency (EPA) announced today.\\u00a0   The complaint alleges that for more than a decade, the Big Cajun 2 Power Plant has operated without the best available emissions-control technology required by the New Source Review provisions of the Clean Air Act to control emissions of sulfur dioxide and nitrogen oxide, contributing to formation of fine particulate matter, smog and acid rain.   The lawsuit, filed by the Justice Department on behalf of the EPA, asks the court to order Louisiana Generating to install and operate appropriate air pollution control technology in order to substantially reduce sulfur dioxide and nitrogen oxide emissions from the Big Cajun 2 Power Plant.\\u00a0 The United States also seeks civil penalties up to the maximum amount authorized by law, as well as actions by the energy provider to mitigate the adverse effects alleged to have been caused by the violations.\\u00a0   Coal-fired power plants collectively produce more pollution than any other industry in the United States.\\u00a0 They account for nearly 70 percent of sulfur dioxide emissions each year and 20 percent of nitrogen oxides emissions.\\u00a0 Emissions from coal-fired power plants have detrimental health effects on asthma sufferers, the elderly and children.\\u00a0 Additionally, these emissions have been linked to forest degradation, waterway damage, reservoir contamination and deterioration of stone and copper in buildings.   To combat these adverse effects, the EPA and the Justice Department are pursuing a national initiative, targeting electric utilities whose coal-fired power plants violate the law.\\u00a0 The suit was filed in the U.S. District Court in Baton Rouge, La.\"\n        ],\n        \"semantic_type\": \"\",\n        \"description\": \"\"\n      }\n    },\n    {\n      \"column\": \"date\",\n      \"properties\": {\n        \"dtype\": \"object\",\n        \"num_unique_values\": 2400,\n        \"samples\": [\n          \"2010-10-12T00:00:00-04:00\",\n          \"2013-12-23T00:00:00-05:00\",\n          \"2013-07-02T00:00:00-04:00\"\n        ],\n        \"semantic_type\": \"\",\n        \"description\": \"\"\n      }\n    },\n    {\n      \"column\": \"topics\",\n      \"properties\": {\n        \"dtype\": \"object\",\n        \"semantic_type\": \"\",\n        \"description\": \"\"\n      }\n    },\n    {\n      \"column\": \"components\",\n      \"properties\": {\n        \"dtype\": \"object\",\n        \"semantic_type\": \"\",\n        \"description\": \"\"\n      }\n    }\n  ]\n}"
            }
          },
          "metadata": {},
          "execution_count": 9
        }
      ]
    },
    {
      "cell_type": "code",
      "source": [
        "df = df[df[\"topics\"].str.len() != 0]\n",
        "df.head()"
      ],
      "metadata": {
        "colab": {
          "base_uri": "https://localhost:8080/",
          "height": 293
        },
        "id": "PJh1ceRDhID8",
        "outputId": "0e0ca823-e79f-4aa9-c77d-42845732b73d"
      },
      "execution_count": 10,
      "outputs": [
        {
          "output_type": "execute_result",
          "data": {
            "text/plain": [
              "         id                                              title  \\\n",
              "4    18-898  $100 Million Settlement Will Speed Cleanup Wor...   \n",
              "7   14-1412  14 Indicted in Connection with New England Com...   \n",
              "19  17-1419  2017 Southeast Regional Animal Cruelty Prosecu...   \n",
              "22  15-1562  21st Century Oncology to Pay $19.75 Million to...   \n",
              "23  17-1404  21st Century Oncology to Pay $26 Million to Se...   \n",
              "\n",
              "                                             contents  \\\n",
              "4   The U.S. Department of Justice, the U.S. Envir...   \n",
              "7   A 131-count criminal indictment was unsealed t...   \n",
              "19  The United States Attorney’s Office for the Mi...   \n",
              "22  21st Century Oncology LLC, has agreed to pay $...   \n",
              "23  21st Century Oncology Inc. and certain of its ...   \n",
              "\n",
              "                         date                                 topics  \\\n",
              "4   2018-07-09T00:00:00-04:00                          [Environment]   \n",
              "7   2014-12-17T00:00:00-05:00                  [Consumer Protection]   \n",
              "19  2017-12-14T00:00:00-05:00                          [Environment]   \n",
              "22  2015-12-18T00:00:00-05:00  [False Claims Act, Health Care Fraud]   \n",
              "23  2017-12-12T00:00:00-05:00  [Health Care Fraud, False Claims Act]   \n",
              "\n",
              "                                           components  \n",
              "4        [Environment and Natural Resources Division]  \n",
              "7                                    [Civil Division]  \n",
              "19  [Environment and Natural Resources Division, U...  \n",
              "22                                   [Civil Division]  \n",
              "23           [Civil Division, USAO - Florida, Middle]  "
            ],
            "text/html": [
              "\n",
              "  <div id=\"df-57bbe52e-a0e0-41ea-8ea4-575e3b01d573\" class=\"colab-df-container\">\n",
              "    <div>\n",
              "<style scoped>\n",
              "    .dataframe tbody tr th:only-of-type {\n",
              "        vertical-align: middle;\n",
              "    }\n",
              "\n",
              "    .dataframe tbody tr th {\n",
              "        vertical-align: top;\n",
              "    }\n",
              "\n",
              "    .dataframe thead th {\n",
              "        text-align: right;\n",
              "    }\n",
              "</style>\n",
              "<table border=\"1\" class=\"dataframe\">\n",
              "  <thead>\n",
              "    <tr style=\"text-align: right;\">\n",
              "      <th></th>\n",
              "      <th>id</th>\n",
              "      <th>title</th>\n",
              "      <th>contents</th>\n",
              "      <th>date</th>\n",
              "      <th>topics</th>\n",
              "      <th>components</th>\n",
              "    </tr>\n",
              "  </thead>\n",
              "  <tbody>\n",
              "    <tr>\n",
              "      <th>4</th>\n",
              "      <td>18-898</td>\n",
              "      <td>$100 Million Settlement Will Speed Cleanup Wor...</td>\n",
              "      <td>The U.S. Department of Justice, the U.S. Envir...</td>\n",
              "      <td>2018-07-09T00:00:00-04:00</td>\n",
              "      <td>[Environment]</td>\n",
              "      <td>[Environment and Natural Resources Division]</td>\n",
              "    </tr>\n",
              "    <tr>\n",
              "      <th>7</th>\n",
              "      <td>14-1412</td>\n",
              "      <td>14 Indicted in Connection with New England Com...</td>\n",
              "      <td>A 131-count criminal indictment was unsealed t...</td>\n",
              "      <td>2014-12-17T00:00:00-05:00</td>\n",
              "      <td>[Consumer Protection]</td>\n",
              "      <td>[Civil Division]</td>\n",
              "    </tr>\n",
              "    <tr>\n",
              "      <th>19</th>\n",
              "      <td>17-1419</td>\n",
              "      <td>2017 Southeast Regional Animal Cruelty Prosecu...</td>\n",
              "      <td>The United States Attorney’s Office for the Mi...</td>\n",
              "      <td>2017-12-14T00:00:00-05:00</td>\n",
              "      <td>[Environment]</td>\n",
              "      <td>[Environment and Natural Resources Division, U...</td>\n",
              "    </tr>\n",
              "    <tr>\n",
              "      <th>22</th>\n",
              "      <td>15-1562</td>\n",
              "      <td>21st Century Oncology to Pay $19.75 Million to...</td>\n",
              "      <td>21st Century Oncology LLC, has agreed to pay $...</td>\n",
              "      <td>2015-12-18T00:00:00-05:00</td>\n",
              "      <td>[False Claims Act, Health Care Fraud]</td>\n",
              "      <td>[Civil Division]</td>\n",
              "    </tr>\n",
              "    <tr>\n",
              "      <th>23</th>\n",
              "      <td>17-1404</td>\n",
              "      <td>21st Century Oncology to Pay $26 Million to Se...</td>\n",
              "      <td>21st Century Oncology Inc. and certain of its ...</td>\n",
              "      <td>2017-12-12T00:00:00-05:00</td>\n",
              "      <td>[Health Care Fraud, False Claims Act]</td>\n",
              "      <td>[Civil Division, USAO - Florida, Middle]</td>\n",
              "    </tr>\n",
              "  </tbody>\n",
              "</table>\n",
              "</div>\n",
              "    <div class=\"colab-df-buttons\">\n",
              "\n",
              "  <div class=\"colab-df-container\">\n",
              "    <button class=\"colab-df-convert\" onclick=\"convertToInteractive('df-57bbe52e-a0e0-41ea-8ea4-575e3b01d573')\"\n",
              "            title=\"Convert this dataframe to an interactive table.\"\n",
              "            style=\"display:none;\">\n",
              "\n",
              "  <svg xmlns=\"http://www.w3.org/2000/svg\" height=\"24px\" viewBox=\"0 -960 960 960\">\n",
              "    <path d=\"M120-120v-720h720v720H120Zm60-500h600v-160H180v160Zm220 220h160v-160H400v160Zm0 220h160v-160H400v160ZM180-400h160v-160H180v160Zm440 0h160v-160H620v160ZM180-180h160v-160H180v160Zm440 0h160v-160H620v160Z\"/>\n",
              "  </svg>\n",
              "    </button>\n",
              "\n",
              "  <style>\n",
              "    .colab-df-container {\n",
              "      display:flex;\n",
              "      gap: 12px;\n",
              "    }\n",
              "\n",
              "    .colab-df-convert {\n",
              "      background-color: #E8F0FE;\n",
              "      border: none;\n",
              "      border-radius: 50%;\n",
              "      cursor: pointer;\n",
              "      display: none;\n",
              "      fill: #1967D2;\n",
              "      height: 32px;\n",
              "      padding: 0 0 0 0;\n",
              "      width: 32px;\n",
              "    }\n",
              "\n",
              "    .colab-df-convert:hover {\n",
              "      background-color: #E2EBFA;\n",
              "      box-shadow: 0px 1px 2px rgba(60, 64, 67, 0.3), 0px 1px 3px 1px rgba(60, 64, 67, 0.15);\n",
              "      fill: #174EA6;\n",
              "    }\n",
              "\n",
              "    .colab-df-buttons div {\n",
              "      margin-bottom: 4px;\n",
              "    }\n",
              "\n",
              "    [theme=dark] .colab-df-convert {\n",
              "      background-color: #3B4455;\n",
              "      fill: #D2E3FC;\n",
              "    }\n",
              "\n",
              "    [theme=dark] .colab-df-convert:hover {\n",
              "      background-color: #434B5C;\n",
              "      box-shadow: 0px 1px 3px 1px rgba(0, 0, 0, 0.15);\n",
              "      filter: drop-shadow(0px 1px 2px rgba(0, 0, 0, 0.3));\n",
              "      fill: #FFFFFF;\n",
              "    }\n",
              "  </style>\n",
              "\n",
              "    <script>\n",
              "      const buttonEl =\n",
              "        document.querySelector('#df-57bbe52e-a0e0-41ea-8ea4-575e3b01d573 button.colab-df-convert');\n",
              "      buttonEl.style.display =\n",
              "        google.colab.kernel.accessAllowed ? 'block' : 'none';\n",
              "\n",
              "      async function convertToInteractive(key) {\n",
              "        const element = document.querySelector('#df-57bbe52e-a0e0-41ea-8ea4-575e3b01d573');\n",
              "        const dataTable =\n",
              "          await google.colab.kernel.invokeFunction('convertToInteractive',\n",
              "                                                    [key], {});\n",
              "        if (!dataTable) return;\n",
              "\n",
              "        const docLinkHtml = 'Like what you see? Visit the ' +\n",
              "          '<a target=\"_blank\" href=https://colab.research.google.com/notebooks/data_table.ipynb>data table notebook</a>'\n",
              "          + ' to learn more about interactive tables.';\n",
              "        element.innerHTML = '';\n",
              "        dataTable['output_type'] = 'display_data';\n",
              "        await google.colab.output.renderOutput(dataTable, element);\n",
              "        const docLink = document.createElement('div');\n",
              "        docLink.innerHTML = docLinkHtml;\n",
              "        element.appendChild(docLink);\n",
              "      }\n",
              "    </script>\n",
              "  </div>\n",
              "\n",
              "\n",
              "<div id=\"df-7b11d480-cced-41e4-b32a-9f7873aab73f\">\n",
              "  <button class=\"colab-df-quickchart\" onclick=\"quickchart('df-7b11d480-cced-41e4-b32a-9f7873aab73f')\"\n",
              "            title=\"Suggest charts\"\n",
              "            style=\"display:none;\">\n",
              "\n",
              "<svg xmlns=\"http://www.w3.org/2000/svg\" height=\"24px\"viewBox=\"0 0 24 24\"\n",
              "     width=\"24px\">\n",
              "    <g>\n",
              "        <path d=\"M19 3H5c-1.1 0-2 .9-2 2v14c0 1.1.9 2 2 2h14c1.1 0 2-.9 2-2V5c0-1.1-.9-2-2-2zM9 17H7v-7h2v7zm4 0h-2V7h2v10zm4 0h-2v-4h2v4z\"/>\n",
              "    </g>\n",
              "</svg>\n",
              "  </button>\n",
              "\n",
              "<style>\n",
              "  .colab-df-quickchart {\n",
              "      --bg-color: #E8F0FE;\n",
              "      --fill-color: #1967D2;\n",
              "      --hover-bg-color: #E2EBFA;\n",
              "      --hover-fill-color: #174EA6;\n",
              "      --disabled-fill-color: #AAA;\n",
              "      --disabled-bg-color: #DDD;\n",
              "  }\n",
              "\n",
              "  [theme=dark] .colab-df-quickchart {\n",
              "      --bg-color: #3B4455;\n",
              "      --fill-color: #D2E3FC;\n",
              "      --hover-bg-color: #434B5C;\n",
              "      --hover-fill-color: #FFFFFF;\n",
              "      --disabled-bg-color: #3B4455;\n",
              "      --disabled-fill-color: #666;\n",
              "  }\n",
              "\n",
              "  .colab-df-quickchart {\n",
              "    background-color: var(--bg-color);\n",
              "    border: none;\n",
              "    border-radius: 50%;\n",
              "    cursor: pointer;\n",
              "    display: none;\n",
              "    fill: var(--fill-color);\n",
              "    height: 32px;\n",
              "    padding: 0;\n",
              "    width: 32px;\n",
              "  }\n",
              "\n",
              "  .colab-df-quickchart:hover {\n",
              "    background-color: var(--hover-bg-color);\n",
              "    box-shadow: 0 1px 2px rgba(60, 64, 67, 0.3), 0 1px 3px 1px rgba(60, 64, 67, 0.15);\n",
              "    fill: var(--button-hover-fill-color);\n",
              "  }\n",
              "\n",
              "  .colab-df-quickchart-complete:disabled,\n",
              "  .colab-df-quickchart-complete:disabled:hover {\n",
              "    background-color: var(--disabled-bg-color);\n",
              "    fill: var(--disabled-fill-color);\n",
              "    box-shadow: none;\n",
              "  }\n",
              "\n",
              "  .colab-df-spinner {\n",
              "    border: 2px solid var(--fill-color);\n",
              "    border-color: transparent;\n",
              "    border-bottom-color: var(--fill-color);\n",
              "    animation:\n",
              "      spin 1s steps(1) infinite;\n",
              "  }\n",
              "\n",
              "  @keyframes spin {\n",
              "    0% {\n",
              "      border-color: transparent;\n",
              "      border-bottom-color: var(--fill-color);\n",
              "      border-left-color: var(--fill-color);\n",
              "    }\n",
              "    20% {\n",
              "      border-color: transparent;\n",
              "      border-left-color: var(--fill-color);\n",
              "      border-top-color: var(--fill-color);\n",
              "    }\n",
              "    30% {\n",
              "      border-color: transparent;\n",
              "      border-left-color: var(--fill-color);\n",
              "      border-top-color: var(--fill-color);\n",
              "      border-right-color: var(--fill-color);\n",
              "    }\n",
              "    40% {\n",
              "      border-color: transparent;\n",
              "      border-right-color: var(--fill-color);\n",
              "      border-top-color: var(--fill-color);\n",
              "    }\n",
              "    60% {\n",
              "      border-color: transparent;\n",
              "      border-right-color: var(--fill-color);\n",
              "    }\n",
              "    80% {\n",
              "      border-color: transparent;\n",
              "      border-right-color: var(--fill-color);\n",
              "      border-bottom-color: var(--fill-color);\n",
              "    }\n",
              "    90% {\n",
              "      border-color: transparent;\n",
              "      border-bottom-color: var(--fill-color);\n",
              "    }\n",
              "  }\n",
              "</style>\n",
              "\n",
              "  <script>\n",
              "    async function quickchart(key) {\n",
              "      const quickchartButtonEl =\n",
              "        document.querySelector('#' + key + ' button');\n",
              "      quickchartButtonEl.disabled = true;  // To prevent multiple clicks.\n",
              "      quickchartButtonEl.classList.add('colab-df-spinner');\n",
              "      try {\n",
              "        const charts = await google.colab.kernel.invokeFunction(\n",
              "            'suggestCharts', [key], {});\n",
              "      } catch (error) {\n",
              "        console.error('Error during call to suggestCharts:', error);\n",
              "      }\n",
              "      quickchartButtonEl.classList.remove('colab-df-spinner');\n",
              "      quickchartButtonEl.classList.add('colab-df-quickchart-complete');\n",
              "    }\n",
              "    (() => {\n",
              "      let quickchartButtonEl =\n",
              "        document.querySelector('#df-7b11d480-cced-41e4-b32a-9f7873aab73f button');\n",
              "      quickchartButtonEl.style.display =\n",
              "        google.colab.kernel.accessAllowed ? 'block' : 'none';\n",
              "    })();\n",
              "  </script>\n",
              "</div>\n",
              "\n",
              "    </div>\n",
              "  </div>\n"
            ],
            "application/vnd.google.colaboratory.intrinsic+json": {
              "type": "dataframe",
              "variable_name": "df",
              "repr_error": "0"
            }
          },
          "metadata": {},
          "execution_count": 10
        }
      ]
    },
    {
      "cell_type": "code",
      "source": [
        "df.shape\n"
      ],
      "metadata": {
        "colab": {
          "base_uri": "https://localhost:8080/"
        },
        "id": "hm7sR1DYhOJ1",
        "outputId": "c813f03e-a11f-4833-fc40-cc4eee57eb88"
      },
      "execution_count": 11,
      "outputs": [
        {
          "output_type": "execute_result",
          "data": {
            "text/plain": [
              "(4688, 6)"
            ]
          },
          "metadata": {},
          "execution_count": 11
        }
      ]
    },
    {
      "cell_type": "code",
      "source": [
        "df =df.head(100)\n",
        "df.shape"
      ],
      "metadata": {
        "colab": {
          "base_uri": "https://localhost:8080/"
        },
        "id": "BbM_hd4hheYm",
        "outputId": "022e419d-1360-434a-8491-c64b73582dd9"
      },
      "execution_count": 12,
      "outputs": [
        {
          "output_type": "execute_result",
          "data": {
            "text/plain": [
              "(100, 6)"
            ]
          },
          "metadata": {},
          "execution_count": 12
        }
      ]
    },
    {
      "cell_type": "code",
      "source": [
        "df[\"contents_new\"]=df.contents.apply(preprocess)"
      ],
      "metadata": {
        "id": "hdN6Vojnhgz8"
      },
      "execution_count": 17,
      "outputs": []
    },
    {
      "cell_type": "code",
      "source": [
        "df"
      ],
      "metadata": {
        "colab": {
          "base_uri": "https://localhost:8080/",
          "height": 597
        },
        "id": "augoikjZhvkz",
        "outputId": "1a14050b-4604-4209-945b-f4325f659bc7"
      },
      "execution_count": 18,
      "outputs": [
        {
          "output_type": "execute_result",
          "data": {
            "text/plain": [
              "          id                                              title  \\\n",
              "4     18-898  $100 Million Settlement Will Speed Cleanup Wor...   \n",
              "7    14-1412  14 Indicted in Connection with New England Com...   \n",
              "19   17-1419  2017 Southeast Regional Animal Cruelty Prosecu...   \n",
              "22   15-1562  21st Century Oncology to Pay $19.75 Million to...   \n",
              "23   17-1404  21st Century Oncology to Pay $26 Million to Se...   \n",
              "..       ...                                                ...   \n",
              "316  15-1359  Alaska Plastic Surgeon Convicted of Wire Fraud...   \n",
              "318   16-396  Alaska Plastic Surgeon Sentenced to Prison for...   \n",
              "321   17-736  Alaskan Commercial Fishing Couple Charged with...   \n",
              "322   18-717  Alaskan Husband And Wife Plead Guilty To Willf...   \n",
              "324  16-1345        Alaskan Oncologist Indicted for Tax Evasion   \n",
              "\n",
              "                                              contents  \\\n",
              "4    U.S. Department Justice , U.S. Environmental P...   \n",
              "7    131 - count criminal indictment unsealed today...   \n",
              "19   United States Attorney Office Middle District ...   \n",
              "22   21st Century Oncology LLC , agreed pay $ 19.75...   \n",
              "23   21st Century Oncology Inc. certain subsidiarie...   \n",
              "..                                                 ...   \n",
              "316  Doctor Hid Millions Secret Accounts Panama Ala...   \n",
              "318  Defendant Concealed Bank Accounts Panama Costa...   \n",
              "321  Alaskan couple charged federal court Juneau , ...   \n",
              "322  husband wife pleaded guilty yesterday counts w...   \n",
              "324  resident Big Lake , Alaska indicted counts tax...   \n",
              "\n",
              "                          date                                 topics  \\\n",
              "4    2018-07-09T00:00:00-04:00                          [Environment]   \n",
              "7    2014-12-17T00:00:00-05:00                  [Consumer Protection]   \n",
              "19   2017-12-14T00:00:00-05:00                          [Environment]   \n",
              "22   2015-12-18T00:00:00-05:00  [False Claims Act, Health Care Fraud]   \n",
              "23   2017-12-12T00:00:00-05:00  [Health Care Fraud, False Claims Act]   \n",
              "..                         ...                                    ...   \n",
              "316  2015-11-04T00:00:00-05:00                                  [Tax]   \n",
              "318  2016-04-04T00:00:00-04:00                                  [Tax]   \n",
              "321  2017-07-26T00:00:00-04:00                                  [Tax]   \n",
              "322  2018-06-01T00:00:00-04:00                                  [Tax]   \n",
              "324  2016-11-17T00:00:00-05:00                                  [Tax]   \n",
              "\n",
              "                                            components  \\\n",
              "4         [Environment and Natural Resources Division]   \n",
              "7                                     [Civil Division]   \n",
              "19   [Environment and Natural Resources Division, U...   \n",
              "22                                    [Civil Division]   \n",
              "23            [Civil Division, USAO - Florida, Middle]   \n",
              "..                                                 ...   \n",
              "316                                     [Tax Division]   \n",
              "318                                     [Tax Division]   \n",
              "321                      [Tax Division, USAO - Alaska]   \n",
              "322                                     [Tax Division]   \n",
              "324                                     [Tax Division]   \n",
              "\n",
              "                                          contents_new  \n",
              "4    U.S. Department Justice , U.S. Environmental P...  \n",
              "7    131 - count criminal indictment unsealed today...  \n",
              "19   United States Attorney Office Middle District ...  \n",
              "22   21st Century Oncology LLC , agreed pay $ 19.75...  \n",
              "23   21st Century Oncology Inc. certain subsidiarie...  \n",
              "..                                                 ...  \n",
              "316  Doctor Hid Millions Secret Accounts Panama Ala...  \n",
              "318  Defendant Concealed Bank Accounts Panama Costa...  \n",
              "321  Alaskan couple charged federal court Juneau , ...  \n",
              "322  husband wife pleaded guilty yesterday counts w...  \n",
              "324  resident Big Lake , Alaska indicted counts tax...  \n",
              "\n",
              "[100 rows x 7 columns]"
            ],
            "text/html": [
              "\n",
              "  <div id=\"df-caaa9d1f-432e-4183-8e9c-f368cc6b9e3d\" class=\"colab-df-container\">\n",
              "    <div>\n",
              "<style scoped>\n",
              "    .dataframe tbody tr th:only-of-type {\n",
              "        vertical-align: middle;\n",
              "    }\n",
              "\n",
              "    .dataframe tbody tr th {\n",
              "        vertical-align: top;\n",
              "    }\n",
              "\n",
              "    .dataframe thead th {\n",
              "        text-align: right;\n",
              "    }\n",
              "</style>\n",
              "<table border=\"1\" class=\"dataframe\">\n",
              "  <thead>\n",
              "    <tr style=\"text-align: right;\">\n",
              "      <th></th>\n",
              "      <th>id</th>\n",
              "      <th>title</th>\n",
              "      <th>contents</th>\n",
              "      <th>date</th>\n",
              "      <th>topics</th>\n",
              "      <th>components</th>\n",
              "      <th>contents_new</th>\n",
              "    </tr>\n",
              "  </thead>\n",
              "  <tbody>\n",
              "    <tr>\n",
              "      <th>4</th>\n",
              "      <td>18-898</td>\n",
              "      <td>$100 Million Settlement Will Speed Cleanup Wor...</td>\n",
              "      <td>U.S. Department Justice , U.S. Environmental P...</td>\n",
              "      <td>2018-07-09T00:00:00-04:00</td>\n",
              "      <td>[Environment]</td>\n",
              "      <td>[Environment and Natural Resources Division]</td>\n",
              "      <td>U.S. Department Justice , U.S. Environmental P...</td>\n",
              "    </tr>\n",
              "    <tr>\n",
              "      <th>7</th>\n",
              "      <td>14-1412</td>\n",
              "      <td>14 Indicted in Connection with New England Com...</td>\n",
              "      <td>131 - count criminal indictment unsealed today...</td>\n",
              "      <td>2014-12-17T00:00:00-05:00</td>\n",
              "      <td>[Consumer Protection]</td>\n",
              "      <td>[Civil Division]</td>\n",
              "      <td>131 - count criminal indictment unsealed today...</td>\n",
              "    </tr>\n",
              "    <tr>\n",
              "      <th>19</th>\n",
              "      <td>17-1419</td>\n",
              "      <td>2017 Southeast Regional Animal Cruelty Prosecu...</td>\n",
              "      <td>United States Attorney Office Middle District ...</td>\n",
              "      <td>2017-12-14T00:00:00-05:00</td>\n",
              "      <td>[Environment]</td>\n",
              "      <td>[Environment and Natural Resources Division, U...</td>\n",
              "      <td>United States Attorney Office Middle District ...</td>\n",
              "    </tr>\n",
              "    <tr>\n",
              "      <th>22</th>\n",
              "      <td>15-1562</td>\n",
              "      <td>21st Century Oncology to Pay $19.75 Million to...</td>\n",
              "      <td>21st Century Oncology LLC , agreed pay $ 19.75...</td>\n",
              "      <td>2015-12-18T00:00:00-05:00</td>\n",
              "      <td>[False Claims Act, Health Care Fraud]</td>\n",
              "      <td>[Civil Division]</td>\n",
              "      <td>21st Century Oncology LLC , agreed pay $ 19.75...</td>\n",
              "    </tr>\n",
              "    <tr>\n",
              "      <th>23</th>\n",
              "      <td>17-1404</td>\n",
              "      <td>21st Century Oncology to Pay $26 Million to Se...</td>\n",
              "      <td>21st Century Oncology Inc. certain subsidiarie...</td>\n",
              "      <td>2017-12-12T00:00:00-05:00</td>\n",
              "      <td>[Health Care Fraud, False Claims Act]</td>\n",
              "      <td>[Civil Division, USAO - Florida, Middle]</td>\n",
              "      <td>21st Century Oncology Inc. certain subsidiarie...</td>\n",
              "    </tr>\n",
              "    <tr>\n",
              "      <th>...</th>\n",
              "      <td>...</td>\n",
              "      <td>...</td>\n",
              "      <td>...</td>\n",
              "      <td>...</td>\n",
              "      <td>...</td>\n",
              "      <td>...</td>\n",
              "      <td>...</td>\n",
              "    </tr>\n",
              "    <tr>\n",
              "      <th>316</th>\n",
              "      <td>15-1359</td>\n",
              "      <td>Alaska Plastic Surgeon Convicted of Wire Fraud...</td>\n",
              "      <td>Doctor Hid Millions Secret Accounts Panama Ala...</td>\n",
              "      <td>2015-11-04T00:00:00-05:00</td>\n",
              "      <td>[Tax]</td>\n",
              "      <td>[Tax Division]</td>\n",
              "      <td>Doctor Hid Millions Secret Accounts Panama Ala...</td>\n",
              "    </tr>\n",
              "    <tr>\n",
              "      <th>318</th>\n",
              "      <td>16-396</td>\n",
              "      <td>Alaska Plastic Surgeon Sentenced to Prison for...</td>\n",
              "      <td>Defendant Concealed Bank Accounts Panama Costa...</td>\n",
              "      <td>2016-04-04T00:00:00-04:00</td>\n",
              "      <td>[Tax]</td>\n",
              "      <td>[Tax Division]</td>\n",
              "      <td>Defendant Concealed Bank Accounts Panama Costa...</td>\n",
              "    </tr>\n",
              "    <tr>\n",
              "      <th>321</th>\n",
              "      <td>17-736</td>\n",
              "      <td>Alaskan Commercial Fishing Couple Charged with...</td>\n",
              "      <td>Alaskan couple charged federal court Juneau , ...</td>\n",
              "      <td>2017-07-26T00:00:00-04:00</td>\n",
              "      <td>[Tax]</td>\n",
              "      <td>[Tax Division, USAO - Alaska]</td>\n",
              "      <td>Alaskan couple charged federal court Juneau , ...</td>\n",
              "    </tr>\n",
              "    <tr>\n",
              "      <th>322</th>\n",
              "      <td>18-717</td>\n",
              "      <td>Alaskan Husband And Wife Plead Guilty To Willf...</td>\n",
              "      <td>husband wife pleaded guilty yesterday counts w...</td>\n",
              "      <td>2018-06-01T00:00:00-04:00</td>\n",
              "      <td>[Tax]</td>\n",
              "      <td>[Tax Division]</td>\n",
              "      <td>husband wife pleaded guilty yesterday counts w...</td>\n",
              "    </tr>\n",
              "    <tr>\n",
              "      <th>324</th>\n",
              "      <td>16-1345</td>\n",
              "      <td>Alaskan Oncologist Indicted for Tax Evasion</td>\n",
              "      <td>resident Big Lake , Alaska indicted counts tax...</td>\n",
              "      <td>2016-11-17T00:00:00-05:00</td>\n",
              "      <td>[Tax]</td>\n",
              "      <td>[Tax Division]</td>\n",
              "      <td>resident Big Lake , Alaska indicted counts tax...</td>\n",
              "    </tr>\n",
              "  </tbody>\n",
              "</table>\n",
              "<p>100 rows × 7 columns</p>\n",
              "</div>\n",
              "    <div class=\"colab-df-buttons\">\n",
              "\n",
              "  <div class=\"colab-df-container\">\n",
              "    <button class=\"colab-df-convert\" onclick=\"convertToInteractive('df-caaa9d1f-432e-4183-8e9c-f368cc6b9e3d')\"\n",
              "            title=\"Convert this dataframe to an interactive table.\"\n",
              "            style=\"display:none;\">\n",
              "\n",
              "  <svg xmlns=\"http://www.w3.org/2000/svg\" height=\"24px\" viewBox=\"0 -960 960 960\">\n",
              "    <path d=\"M120-120v-720h720v720H120Zm60-500h600v-160H180v160Zm220 220h160v-160H400v160Zm0 220h160v-160H400v160ZM180-400h160v-160H180v160Zm440 0h160v-160H620v160ZM180-180h160v-160H180v160Zm440 0h160v-160H620v160Z\"/>\n",
              "  </svg>\n",
              "    </button>\n",
              "\n",
              "  <style>\n",
              "    .colab-df-container {\n",
              "      display:flex;\n",
              "      gap: 12px;\n",
              "    }\n",
              "\n",
              "    .colab-df-convert {\n",
              "      background-color: #E8F0FE;\n",
              "      border: none;\n",
              "      border-radius: 50%;\n",
              "      cursor: pointer;\n",
              "      display: none;\n",
              "      fill: #1967D2;\n",
              "      height: 32px;\n",
              "      padding: 0 0 0 0;\n",
              "      width: 32px;\n",
              "    }\n",
              "\n",
              "    .colab-df-convert:hover {\n",
              "      background-color: #E2EBFA;\n",
              "      box-shadow: 0px 1px 2px rgba(60, 64, 67, 0.3), 0px 1px 3px 1px rgba(60, 64, 67, 0.15);\n",
              "      fill: #174EA6;\n",
              "    }\n",
              "\n",
              "    .colab-df-buttons div {\n",
              "      margin-bottom: 4px;\n",
              "    }\n",
              "\n",
              "    [theme=dark] .colab-df-convert {\n",
              "      background-color: #3B4455;\n",
              "      fill: #D2E3FC;\n",
              "    }\n",
              "\n",
              "    [theme=dark] .colab-df-convert:hover {\n",
              "      background-color: #434B5C;\n",
              "      box-shadow: 0px 1px 3px 1px rgba(0, 0, 0, 0.15);\n",
              "      filter: drop-shadow(0px 1px 2px rgba(0, 0, 0, 0.3));\n",
              "      fill: #FFFFFF;\n",
              "    }\n",
              "  </style>\n",
              "\n",
              "    <script>\n",
              "      const buttonEl =\n",
              "        document.querySelector('#df-caaa9d1f-432e-4183-8e9c-f368cc6b9e3d button.colab-df-convert');\n",
              "      buttonEl.style.display =\n",
              "        google.colab.kernel.accessAllowed ? 'block' : 'none';\n",
              "\n",
              "      async function convertToInteractive(key) {\n",
              "        const element = document.querySelector('#df-caaa9d1f-432e-4183-8e9c-f368cc6b9e3d');\n",
              "        const dataTable =\n",
              "          await google.colab.kernel.invokeFunction('convertToInteractive',\n",
              "                                                    [key], {});\n",
              "        if (!dataTable) return;\n",
              "\n",
              "        const docLinkHtml = 'Like what you see? Visit the ' +\n",
              "          '<a target=\"_blank\" href=https://colab.research.google.com/notebooks/data_table.ipynb>data table notebook</a>'\n",
              "          + ' to learn more about interactive tables.';\n",
              "        element.innerHTML = '';\n",
              "        dataTable['output_type'] = 'display_data';\n",
              "        await google.colab.output.renderOutput(dataTable, element);\n",
              "        const docLink = document.createElement('div');\n",
              "        docLink.innerHTML = docLinkHtml;\n",
              "        element.appendChild(docLink);\n",
              "      }\n",
              "    </script>\n",
              "  </div>\n",
              "\n",
              "\n",
              "<div id=\"df-c67d6564-d437-4d4c-8a3f-ac5153a6d198\">\n",
              "  <button class=\"colab-df-quickchart\" onclick=\"quickchart('df-c67d6564-d437-4d4c-8a3f-ac5153a6d198')\"\n",
              "            title=\"Suggest charts\"\n",
              "            style=\"display:none;\">\n",
              "\n",
              "<svg xmlns=\"http://www.w3.org/2000/svg\" height=\"24px\"viewBox=\"0 0 24 24\"\n",
              "     width=\"24px\">\n",
              "    <g>\n",
              "        <path d=\"M19 3H5c-1.1 0-2 .9-2 2v14c0 1.1.9 2 2 2h14c1.1 0 2-.9 2-2V5c0-1.1-.9-2-2-2zM9 17H7v-7h2v7zm4 0h-2V7h2v10zm4 0h-2v-4h2v4z\"/>\n",
              "    </g>\n",
              "</svg>\n",
              "  </button>\n",
              "\n",
              "<style>\n",
              "  .colab-df-quickchart {\n",
              "      --bg-color: #E8F0FE;\n",
              "      --fill-color: #1967D2;\n",
              "      --hover-bg-color: #E2EBFA;\n",
              "      --hover-fill-color: #174EA6;\n",
              "      --disabled-fill-color: #AAA;\n",
              "      --disabled-bg-color: #DDD;\n",
              "  }\n",
              "\n",
              "  [theme=dark] .colab-df-quickchart {\n",
              "      --bg-color: #3B4455;\n",
              "      --fill-color: #D2E3FC;\n",
              "      --hover-bg-color: #434B5C;\n",
              "      --hover-fill-color: #FFFFFF;\n",
              "      --disabled-bg-color: #3B4455;\n",
              "      --disabled-fill-color: #666;\n",
              "  }\n",
              "\n",
              "  .colab-df-quickchart {\n",
              "    background-color: var(--bg-color);\n",
              "    border: none;\n",
              "    border-radius: 50%;\n",
              "    cursor: pointer;\n",
              "    display: none;\n",
              "    fill: var(--fill-color);\n",
              "    height: 32px;\n",
              "    padding: 0;\n",
              "    width: 32px;\n",
              "  }\n",
              "\n",
              "  .colab-df-quickchart:hover {\n",
              "    background-color: var(--hover-bg-color);\n",
              "    box-shadow: 0 1px 2px rgba(60, 64, 67, 0.3), 0 1px 3px 1px rgba(60, 64, 67, 0.15);\n",
              "    fill: var(--button-hover-fill-color);\n",
              "  }\n",
              "\n",
              "  .colab-df-quickchart-complete:disabled,\n",
              "  .colab-df-quickchart-complete:disabled:hover {\n",
              "    background-color: var(--disabled-bg-color);\n",
              "    fill: var(--disabled-fill-color);\n",
              "    box-shadow: none;\n",
              "  }\n",
              "\n",
              "  .colab-df-spinner {\n",
              "    border: 2px solid var(--fill-color);\n",
              "    border-color: transparent;\n",
              "    border-bottom-color: var(--fill-color);\n",
              "    animation:\n",
              "      spin 1s steps(1) infinite;\n",
              "  }\n",
              "\n",
              "  @keyframes spin {\n",
              "    0% {\n",
              "      border-color: transparent;\n",
              "      border-bottom-color: var(--fill-color);\n",
              "      border-left-color: var(--fill-color);\n",
              "    }\n",
              "    20% {\n",
              "      border-color: transparent;\n",
              "      border-left-color: var(--fill-color);\n",
              "      border-top-color: var(--fill-color);\n",
              "    }\n",
              "    30% {\n",
              "      border-color: transparent;\n",
              "      border-left-color: var(--fill-color);\n",
              "      border-top-color: var(--fill-color);\n",
              "      border-right-color: var(--fill-color);\n",
              "    }\n",
              "    40% {\n",
              "      border-color: transparent;\n",
              "      border-right-color: var(--fill-color);\n",
              "      border-top-color: var(--fill-color);\n",
              "    }\n",
              "    60% {\n",
              "      border-color: transparent;\n",
              "      border-right-color: var(--fill-color);\n",
              "    }\n",
              "    80% {\n",
              "      border-color: transparent;\n",
              "      border-right-color: var(--fill-color);\n",
              "      border-bottom-color: var(--fill-color);\n",
              "    }\n",
              "    90% {\n",
              "      border-color: transparent;\n",
              "      border-bottom-color: var(--fill-color);\n",
              "    }\n",
              "  }\n",
              "</style>\n",
              "\n",
              "  <script>\n",
              "    async function quickchart(key) {\n",
              "      const quickchartButtonEl =\n",
              "        document.querySelector('#' + key + ' button');\n",
              "      quickchartButtonEl.disabled = true;  // To prevent multiple clicks.\n",
              "      quickchartButtonEl.classList.add('colab-df-spinner');\n",
              "      try {\n",
              "        const charts = await google.colab.kernel.invokeFunction(\n",
              "            'suggestCharts', [key], {});\n",
              "      } catch (error) {\n",
              "        console.error('Error during call to suggestCharts:', error);\n",
              "      }\n",
              "      quickchartButtonEl.classList.remove('colab-df-spinner');\n",
              "      quickchartButtonEl.classList.add('colab-df-quickchart-complete');\n",
              "    }\n",
              "    (() => {\n",
              "      let quickchartButtonEl =\n",
              "        document.querySelector('#df-c67d6564-d437-4d4c-8a3f-ac5153a6d198 button');\n",
              "      quickchartButtonEl.style.display =\n",
              "        google.colab.kernel.accessAllowed ? 'block' : 'none';\n",
              "    })();\n",
              "  </script>\n",
              "</div>\n",
              "\n",
              "  <div id=\"id_d7bcc12a-34de-43f7-aade-736c0530bf4d\">\n",
              "    <style>\n",
              "      .colab-df-generate {\n",
              "        background-color: #E8F0FE;\n",
              "        border: none;\n",
              "        border-radius: 50%;\n",
              "        cursor: pointer;\n",
              "        display: none;\n",
              "        fill: #1967D2;\n",
              "        height: 32px;\n",
              "        padding: 0 0 0 0;\n",
              "        width: 32px;\n",
              "      }\n",
              "\n",
              "      .colab-df-generate:hover {\n",
              "        background-color: #E2EBFA;\n",
              "        box-shadow: 0px 1px 2px rgba(60, 64, 67, 0.3), 0px 1px 3px 1px rgba(60, 64, 67, 0.15);\n",
              "        fill: #174EA6;\n",
              "      }\n",
              "\n",
              "      [theme=dark] .colab-df-generate {\n",
              "        background-color: #3B4455;\n",
              "        fill: #D2E3FC;\n",
              "      }\n",
              "\n",
              "      [theme=dark] .colab-df-generate:hover {\n",
              "        background-color: #434B5C;\n",
              "        box-shadow: 0px 1px 3px 1px rgba(0, 0, 0, 0.15);\n",
              "        filter: drop-shadow(0px 1px 2px rgba(0, 0, 0, 0.3));\n",
              "        fill: #FFFFFF;\n",
              "      }\n",
              "    </style>\n",
              "    <button class=\"colab-df-generate\" onclick=\"generateWithVariable('df')\"\n",
              "            title=\"Generate code using this dataframe.\"\n",
              "            style=\"display:none;\">\n",
              "\n",
              "  <svg xmlns=\"http://www.w3.org/2000/svg\" height=\"24px\"viewBox=\"0 0 24 24\"\n",
              "       width=\"24px\">\n",
              "    <path d=\"M7,19H8.4L18.45,9,17,7.55,7,17.6ZM5,21V16.75L18.45,3.32a2,2,0,0,1,2.83,0l1.4,1.43a1.91,1.91,0,0,1,.58,1.4,1.91,1.91,0,0,1-.58,1.4L9.25,21ZM18.45,9,17,7.55Zm-12,3A5.31,5.31,0,0,0,4.9,8.1,5.31,5.31,0,0,0,1,6.5,5.31,5.31,0,0,0,4.9,4.9,5.31,5.31,0,0,0,6.5,1,5.31,5.31,0,0,0,8.1,4.9,5.31,5.31,0,0,0,12,6.5,5.46,5.46,0,0,0,6.5,12Z\"/>\n",
              "  </svg>\n",
              "    </button>\n",
              "    <script>\n",
              "      (() => {\n",
              "      const buttonEl =\n",
              "        document.querySelector('#id_d7bcc12a-34de-43f7-aade-736c0530bf4d button.colab-df-generate');\n",
              "      buttonEl.style.display =\n",
              "        google.colab.kernel.accessAllowed ? 'block' : 'none';\n",
              "\n",
              "      buttonEl.onclick = () => {\n",
              "        google.colab.notebook.generateWithVariable('df');\n",
              "      }\n",
              "      })();\n",
              "    </script>\n",
              "  </div>\n",
              "\n",
              "    </div>\n",
              "  </div>\n"
            ],
            "application/vnd.google.colaboratory.intrinsic+json": {
              "type": "dataframe",
              "variable_name": "df",
              "repr_error": "0"
            }
          },
          "metadata": {},
          "execution_count": 18
        }
      ]
    },
    {
      "cell_type": "code",
      "source": [
        "\n",
        "len(df.contents[4])"
      ],
      "metadata": {
        "colab": {
          "base_uri": "https://localhost:8080/"
        },
        "id": "cUKDpr6RhxVF",
        "outputId": "df6d5f87-e450-4d76-a279-32dd04f80334"
      },
      "execution_count": 20,
      "outputs": [
        {
          "output_type": "execute_result",
          "data": {
            "text/plain": [
              "4810"
            ]
          },
          "metadata": {},
          "execution_count": 20
        }
      ]
    },
    {
      "cell_type": "code",
      "source": [
        "len(df.contents_new[4])\n"
      ],
      "metadata": {
        "colab": {
          "base_uri": "https://localhost:8080/"
        },
        "id": "4LFPeBtXiFqK",
        "outputId": "c5fed753-d6b2-486e-c6e2-c22ab73f48ae"
      },
      "execution_count": 21,
      "outputs": [
        {
          "output_type": "execute_result",
          "data": {
            "text/plain": [
              "4818"
            ]
          },
          "metadata": {},
          "execution_count": 21
        }
      ]
    },
    {
      "cell_type": "code",
      "source": [
        "df.contents[4][:300]\n"
      ],
      "metadata": {
        "colab": {
          "base_uri": "https://localhost:8080/",
          "height": 53
        },
        "id": "m4J5XhcfiJH3",
        "outputId": "cafa1b26-cf84-47eb-9a2f-a6aabf9a1918"
      },
      "execution_count": 22,
      "outputs": [
        {
          "output_type": "execute_result",
          "data": {
            "text/plain": [
              "'U.S. Department Justice , U.S. Environmental Protection Agency ( EPA ) , Rhode Island Department Environmental Management ( RIDEM ) announced today subsidiaries Stanley Black & Decker Inc.—Emhart Industries Inc. Black & Decker Inc.—have agreed clean dioxin contaminated sediment soil Centredale Manor'"
            ],
            "application/vnd.google.colaboratory.intrinsic+json": {
              "type": "string"
            }
          },
          "metadata": {},
          "execution_count": 22
        }
      ]
    },
    {
      "cell_type": "code",
      "source": [
        "df.contents_new[4][:300]\n"
      ],
      "metadata": {
        "colab": {
          "base_uri": "https://localhost:8080/",
          "height": 53
        },
        "id": "ugxy-zbGipY2",
        "outputId": "7a2ef176-773b-48b2-c1c1-0cce2e22acf4"
      },
      "execution_count": 23,
      "outputs": [
        {
          "output_type": "execute_result",
          "data": {
            "text/plain": [
              "'U.S. Department Justice , U.S. Environmental Protection Agency ( EPA ) , Rhode Island Department Environmental Management ( RIDEM ) announced today subsidiaries Stanley Black & Decker Inc.—Emhart Industries Inc. Black & Decker Inc.—have agreed clean dioxin contaminated sediment soil Centredale Manor'"
            ],
            "application/vnd.google.colaboratory.intrinsic+json": {
              "type": "string"
            }
          },
          "metadata": {},
          "execution_count": 23
        }
      ]
    },
    {
      "cell_type": "markdown",
      "source": [
        "Examples where removing stop words can create a problem\n",
        "(1) Sentiment detection: Not always but in some cases, based on your dataset it can change the sentiment of a sentence if you remove stop words"
      ],
      "metadata": {
        "id": "rXlEAmcJjFpi"
      }
    },
    {
      "cell_type": "code",
      "source": [
        "preprocess(\"this is a good movie\")"
      ],
      "metadata": {
        "colab": {
          "base_uri": "https://localhost:8080/",
          "height": 36
        },
        "id": "IanLL77vist6",
        "outputId": "e035fccb-4d11-40c0-ee33-6828937bdbdd"
      },
      "execution_count": 24,
      "outputs": [
        {
          "output_type": "execute_result",
          "data": {
            "text/plain": [
              "'good movie'"
            ],
            "application/vnd.google.colaboratory.intrinsic+json": {
              "type": "string"
            }
          },
          "metadata": {},
          "execution_count": 24
        }
      ]
    },
    {
      "cell_type": "code",
      "source": [
        "preprocess(\"this is not a good movie\")\n"
      ],
      "metadata": {
        "colab": {
          "base_uri": "https://localhost:8080/",
          "height": 36
        },
        "id": "ThtU7vH9jSL4",
        "outputId": "7166508c-dc46-4b35-9f67-ccbb5acf3886"
      },
      "execution_count": 25,
      "outputs": [
        {
          "output_type": "execute_result",
          "data": {
            "text/plain": [
              "'good movie'"
            ],
            "application/vnd.google.colaboratory.intrinsic+json": {
              "type": "string"
            }
          },
          "metadata": {},
          "execution_count": 25
        }
      ]
    },
    {
      "cell_type": "markdown",
      "source": [
        "(2) Language translation: Say you want to translate following sentence from english to telugu. Before actual translation if you remove stop words and then translate, it will produce horrible result"
      ],
      "metadata": {
        "id": "1488pEOtjfYh"
      }
    },
    {
      "cell_type": "code",
      "source": [
        "preprocess(\"how are you doing Faizan?\")"
      ],
      "metadata": {
        "colab": {
          "base_uri": "https://localhost:8080/",
          "height": 36
        },
        "id": "1JQMeM6ZjXox",
        "outputId": "3a7e8eb1-9265-4f6a-8a47-dcf3c8478cff"
      },
      "execution_count": 26,
      "outputs": [
        {
          "output_type": "execute_result",
          "data": {
            "text/plain": [
              "'Faizan ?'"
            ],
            "application/vnd.google.colaboratory.intrinsic+json": {
              "type": "string"
            }
          },
          "metadata": {},
          "execution_count": 26
        }
      ]
    },
    {
      "cell_type": "markdown",
      "source": [
        "(3) Chat bot or any Q&A system"
      ],
      "metadata": {
        "id": "H0ps3ac6juZ8"
      }
    },
    {
      "cell_type": "code",
      "source": [
        "preprocess(\"I don't find yoga mat on your website.Can you help?\")"
      ],
      "metadata": {
        "colab": {
          "base_uri": "https://localhost:8080/",
          "height": 36
        },
        "id": "krbRHpVajrkO",
        "outputId": "1358ba57-f360-462a-d78b-d658851f412b"
      },
      "execution_count": 27,
      "outputs": [
        {
          "output_type": "execute_result",
          "data": {
            "text/plain": [
              "'find yoga mat website . help ?'"
            ],
            "application/vnd.google.colaboratory.intrinsic+json": {
              "type": "string"
            }
          },
          "metadata": {},
          "execution_count": 27
        }
      ]
    }
  ]
}